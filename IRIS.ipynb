{
 "cells": [
  {
   "cell_type": "code",
   "execution_count": 1,
   "metadata": {
    "collapsed": true
   },
   "outputs": [],
   "source": [
    "import os\n",
    "import urllib\n",
    "\n",
    "import numpy as np\n",
    "import tensorflow as tf\n",
    "\n",
    "IRIS_TRAINING = \"iris_training.csv\"\n",
    "IRIS_TRAINING_URL = \"http://download.tensorflow.org/data/iris_training.csv\"\n",
    "\n",
    "IRIS_TEST = \"iris_test.csv\"\n",
    "IRIS_TEST_URL = \"http://download.tensorflow.org/data/iris_test.csv\"\n"
   ]
  },
  {
   "cell_type": "code",
   "execution_count": 2,
   "metadata": {
    "collapsed": true
   },
   "outputs": [],
   "source": [
    "from __future__ import absolute_import\n",
    "from __future__ import division\n",
    "from __future__ import print_function"
   ]
  },
  {
   "cell_type": "code",
   "execution_count": 9,
   "metadata": {
    "collapsed": false
   },
   "outputs": [],
   "source": [
    "if not os.path.exists(IRIS_TRAINING):\n",
    "    raw =urllib.request.urlopen(IRIS_TRAINING_URL).read()\n",
    "    with open(IRIS_TRAINING,'wb') as f:\n",
    "        f.write(raw)\n",
    "if not os.path.exists(IRIS_TEST):\n",
    "    raw = urllib.request.urlopen(IRIS_TEST_URL).read()\n",
    "    with open(IRIS_TEST, \"wb\") as f:\n",
    "        f.write(raw)"
   ]
  },
  {
   "cell_type": "code",
   "execution_count": 10,
   "metadata": {
    "collapsed": false
   },
   "outputs": [],
   "source": [
    " training_set = tf.contrib.learn.datasets.base.load_csv_with_header(\n",
    "      filename=IRIS_TRAINING,\n",
    "      target_dtype=np.int,\n",
    "      features_dtype=np.float32)"
   ]
  },
  {
   "cell_type": "code",
   "execution_count": 11,
   "metadata": {
    "collapsed": true
   },
   "outputs": [],
   "source": [
    "test_set = tf.contrib.learn.datasets.base.load_csv_with_header(\n",
    "      filename=IRIS_TEST,\n",
    "      target_dtype=np.int,\n",
    "      features_dtype=np.float32)"
   ]
  },
  {
   "cell_type": "code",
   "execution_count": 12,
   "metadata": {
    "collapsed": true
   },
   "outputs": [],
   "source": [
    "feature_columns = [tf.feature_column.numeric_column('x',shape=[4])]"
   ]
  },
  {
   "cell_type": "code",
   "execution_count": 16,
   "metadata": {
    "collapsed": false
   },
   "outputs": [
    {
     "name": "stdout",
     "output_type": "stream",
     "text": [
      "INFO:tensorflow:Using default config.\n",
      "WARNING:tensorflow:Using temporary folder as model directory: C:\\Users\\Lei\\AppData\\Local\\Temp\\tmprp_ksmhw\n",
      "INFO:tensorflow:Using config: {'_keep_checkpoint_max': 5, '_log_step_count_steps': 100, '_tf_random_seed': 1, '_model_dir': 'C:\\\\Users\\\\Lei\\\\AppData\\\\Local\\\\Temp\\\\tmprp_ksmhw', '_session_config': None, '_save_summary_steps': 100, '_keep_checkpoint_every_n_hours': 10000, '_save_checkpoints_steps': None, '_save_checkpoints_secs': 600}\n"
     ]
    }
   ],
   "source": [
    "classifier = tf.estimator.DNNClassifier(feature_columns=feature_columns,hidden_units=[10,20,10], n_classes=3)"
   ]
  },
  {
   "cell_type": "code",
   "execution_count": 17,
   "metadata": {
    "collapsed": true
   },
   "outputs": [],
   "source": [
    "train_input_fn = tf.estimator.inputs.numpy_input_fn(x={'x':np.array(training_set.data)}, y=np.array(training_set.target), num_epochs=None, shuffle=True)\n"
   ]
  },
  {
   "cell_type": "code",
   "execution_count": 18,
   "metadata": {
    "collapsed": false
   },
   "outputs": [
    {
     "name": "stdout",
     "output_type": "stream",
     "text": [
      "INFO:tensorflow:Create CheckpointSaverHook.\n",
      "INFO:tensorflow:Saving checkpoints for 1 into C:\\Users\\Lei\\AppData\\Local\\Temp\\tmprp_ksmhw\\model.ckpt.\n",
      "INFO:tensorflow:step = 1, loss = 319.214\n",
      "INFO:tensorflow:global_step/sec: 650.225\n",
      "INFO:tensorflow:step = 101, loss = 13.0445 (0.202 sec)\n",
      "INFO:tensorflow:global_step/sec: 405.114\n",
      "INFO:tensorflow:step = 201, loss = 12.5652 (0.178 sec)\n",
      "INFO:tensorflow:global_step/sec: 725.921\n",
      "INFO:tensorflow:step = 301, loss = 13.3795 (0.153 sec)\n",
      "INFO:tensorflow:global_step/sec: 763.579\n",
      "INFO:tensorflow:step = 401, loss = 8.57815 (0.131 sec)\n",
      "INFO:tensorflow:global_step/sec: 703.432\n",
      "INFO:tensorflow:step = 501, loss = 6.0936 (0.131 sec)\n",
      "INFO:tensorflow:global_step/sec: 790.016\n",
      "INFO:tensorflow:step = 601, loss = 13.1785 (0.123 sec)\n",
      "INFO:tensorflow:global_step/sec: 761.666\n",
      "INFO:tensorflow:step = 701, loss = 2.65035 (0.147 sec)\n",
      "INFO:tensorflow:global_step/sec: 730.691\n",
      "INFO:tensorflow:step = 801, loss = 4.10059 (0.138 sec)\n",
      "INFO:tensorflow:global_step/sec: 674.102\n",
      "INFO:tensorflow:step = 901, loss = 11.96 (0.132 sec)\n",
      "INFO:tensorflow:global_step/sec: 766.853\n",
      "INFO:tensorflow:step = 1001, loss = 10.2855 (0.146 sec)\n",
      "INFO:tensorflow:global_step/sec: 653.25\n",
      "INFO:tensorflow:step = 1101, loss = 7.53043 (0.137 sec)\n",
      "INFO:tensorflow:global_step/sec: 678.807\n",
      "INFO:tensorflow:step = 1201, loss = 14.928 (0.147 sec)\n",
      "INFO:tensorflow:global_step/sec: 653.96\n",
      "INFO:tensorflow:step = 1301, loss = 13.1394 (0.153 sec)\n",
      "INFO:tensorflow:global_step/sec: 677.765\n",
      "INFO:tensorflow:step = 1401, loss = 4.62204 (0.148 sec)\n",
      "INFO:tensorflow:global_step/sec: 654.181\n",
      "INFO:tensorflow:step = 1501, loss = 6.02176 (0.153 sec)\n",
      "INFO:tensorflow:global_step/sec: 613.327\n",
      "INFO:tensorflow:step = 1601, loss = 6.48948 (0.163 sec)\n",
      "INFO:tensorflow:global_step/sec: 590.587\n",
      "INFO:tensorflow:step = 1701, loss = 8.16034 (0.182 sec)\n",
      "INFO:tensorflow:global_step/sec: 546.778\n",
      "INFO:tensorflow:step = 1801, loss = 4.09154 (0.174 sec)\n",
      "INFO:tensorflow:global_step/sec: 678.249\n",
      "INFO:tensorflow:step = 1901, loss = 2.18296 (0.164 sec)\n",
      "INFO:tensorflow:Saving checkpoints for 2000 into C:\\Users\\Lei\\AppData\\Local\\Temp\\tmprp_ksmhw\\model.ckpt.\n",
      "INFO:tensorflow:Loss for final step: 14.656.\n"
     ]
    },
    {
     "data": {
      "text/plain": [
       "<tensorflow.python.estimator.canned.dnn.DNNClassifier at 0x21a3481a710>"
      ]
     },
     "execution_count": 18,
     "metadata": {},
     "output_type": "execute_result"
    }
   ],
   "source": [
    "classifier.train(input_fn=train_input_fn, steps=2000)"
   ]
  },
  {
   "cell_type": "code",
   "execution_count": 19,
   "metadata": {
    "collapsed": true
   },
   "outputs": [],
   "source": [
    "test_input_fn = tf.estimator.inputs.numpy_input_fn(x={'x':np.array(test_set.data)},y=test_set.target, num_epochs=1, shuffle=False)"
   ]
  },
  {
   "cell_type": "code",
   "execution_count": 20,
   "metadata": {
    "collapsed": false
   },
   "outputs": [
    {
     "name": "stdout",
     "output_type": "stream",
     "text": [
      "INFO:tensorflow:Starting evaluation at 2017-10-23-15:15:26\n",
      "INFO:tensorflow:Restoring parameters from C:\\Users\\Lei\\AppData\\Local\\Temp\\tmprp_ksmhw\\model.ckpt-2000\n",
      "INFO:tensorflow:Finished evaluation at 2017-10-23-15:15:27\n",
      "INFO:tensorflow:Saving dict for global step 2000: accuracy = 0.966667, average_loss = 0.0644316, global_step = 2000, loss = 1.93295\n"
     ]
    }
   ],
   "source": [
    "accuracy_score = classifier.evaluate(input_fn=test_input_fn)['accuracy']"
   ]
  },
  {
   "cell_type": "code",
   "execution_count": 21,
   "metadata": {
    "collapsed": false
   },
   "outputs": [
    {
     "data": {
      "text/plain": [
       "0.96666664"
      ]
     },
     "execution_count": 21,
     "metadata": {},
     "output_type": "execute_result"
    }
   ],
   "source": [
    "accuracy_score"
   ]
  },
  {
   "cell_type": "code",
   "execution_count": null,
   "metadata": {
    "collapsed": true
   },
   "outputs": [],
   "source": []
  }
 ],
 "metadata": {
  "kernelspec": {
   "display_name": "Python 3",
   "language": "python",
   "name": "python3"
  },
  "language_info": {
   "codemirror_mode": {
    "name": "ipython",
    "version": 3
   },
   "file_extension": ".py",
   "mimetype": "text/x-python",
   "name": "python",
   "nbconvert_exporter": "python",
   "pygments_lexer": "ipython3",
   "version": "3.5.2"
  }
 },
 "nbformat": 4,
 "nbformat_minor": 2
}
