{
 "cells": [
  {
   "cell_type": "code",
   "execution_count": 1,
   "metadata": {
    "collapsed": true
   },
   "outputs": [],
   "source": [
    "from __future__ import absolute_import\n",
    "from __future__ import division\n",
    "from __future__ import print_function\n",
    "\n",
    "import collections\n",
    "import os\n",
    "import sys\n",
    "\n",
    "import tensorflow as tf"
   ]
  },
  {
   "cell_type": "code",
   "execution_count": 3,
   "metadata": {
    "collapsed": false
   },
   "outputs": [],
   "source": [
    "Py3=sys.version_info[0]==3"
   ]
  },
  {
   "cell_type": "code",
   "execution_count": 4,
   "metadata": {
    "collapsed": true
   },
   "outputs": [],
   "source": [
    "def _read_words(filename):\n",
    "    with tf.gfile.GFile(filename,'r') as f:\n",
    "        if Py3:\n",
    "            return f.read().replace('\\n','<eos>').split()\n",
    "        else:\n",
    "            return f.read().decode('utf-8').replace('\\n','<eos>').split()"
   ]
  },
  {
   "cell_type": "code",
   "execution_count": 5,
   "metadata": {
    "collapsed": true
   },
   "outputs": [],
   "source": [
    "def _build_vocab(filename):\n",
    "    data=_read_words(filename)\n",
    "    counter=collections.Counter(data)\n",
    "    count_pairs = sorted(counter.items(),key=lambda x: (-x[1], x[0]))\n",
    "    words,_ = list(zip(*count_pairs))\n",
    "    word_to_id = dict(words, range(len(words)))\n",
    "    return word_to_id"
   ]
  },
  {
   "cell_type": "code",
   "execution_count": 6,
   "metadata": {
    "collapsed": true
   },
   "outputs": [],
   "source": [
    "def _file_to_word_ids(filename, word_to_id):\n",
    "    data=_read_words(filename)\n",
    "    return [word_to_id[word] for word in data if word in word_to_id]"
   ]
  },
  {
   "cell_type": "code",
   "execution_count": 7,
   "metadata": {
    "collapsed": true
   },
   "outputs": [],
   "source": [
    "def ptb_raw_data(data_path=None):\n",
    "    \"\"\"Load PTB raw data from data directory \"data_path\".\n",
    "    Reads PTB text files, converts strings to integer ids,\n",
    "    and performs mini-batching of the inputs.\n",
    "     Returns:\n",
    "    tuple (train_data, valid_data, test_data, vocabulary)\n",
    "    where each of the data objects can be passed to PTBIterator.\n",
    "    \"\"\"\n",
    "    train_path='C:\\\\Users\\\\Lei\\\\regression\\\\TensorFlow\\\\ptb.train.txt'\n",
    "    test_path = 'C:\\\\Users\\\\Lei\\\\regression\\\\TensorFlow\\\\ptb.test.txt'\n",
    "    valid_path = 'C:\\\\Users\\\\Lei\\\\regression\\\\TensorFlow\\\\ptb.valid.txt'\n",
    "    \n",
    "    word_to_id=_build_vocab(train_path)\n",
    "    \n",
    "    train_data=_file_to_word_ids(train_path,word_to_id)\n",
    "    test_data=_file_to_word_ids(test_path,word_to_id)\n",
    "    valid_data=_file_to_word_ids(valid_path,word_to_id)\n",
    "    \n",
    "    vocabulary = len(word_to_id)\n",
    "    return train_data,test_data, valid_data, vocabulary"
   ]
  },
  {
   "cell_type": "code",
   "execution_count": 8,
   "metadata": {
    "collapsed": true
   },
   "outputs": [],
   "source": [
    "def ptb_producer(raw_data, batch_size, num_steps, name=None):\n",
    "    \"\"\"Iterate on the raw PTB data.\n",
    "    This chunks up raw_data into batches of examples and returns Tensors that\n",
    "    are drawn from these batches.\n",
    "    Returns:\n",
    "    A pair of Tensors, each shaped [batch_size, num_steps]. The second element\n",
    "    of the tuple is the same data time-shifted to the right by one.\"\"\"\n",
    "    \n",
    "    with tf.name_scope(name, 'PTBProducer', [raw_data, batch_size, num_steps]):\n",
    "        \n",
    "        raw_data=tf.convert_to_tensor(raw_data, name='raw_data', dtype=tf.int32)\n",
    "        \n",
    "        data_len=tf.size(raw_data)\n",
    "        batch_len = data_len//batch_size\n",
    "        data=tf.reshape(raw_data[0:batch_len*batch_size], [batch_size,batch_len])\n",
    "        \n",
    "        epoch_size = (batch_len-1)//num_steps\n",
    "        # Assert the condition x > 0 holds element-wise.\n",
    "        assertion = tf.assert_positive(epoch_size, message = 'epoch_size==0, decrease batch_size or num_steps')\n",
    "        \n",
    "    with tf.control_dependencies([assertion]):\n",
    "        #  operationhere run only after assertion have been executed\n",
    "        \n",
    "        # Return a tensor with the same shape and contents as the input\n",
    "        epoch_size = tf.identity(epoch_size, name='epoch_size')\n",
    "        \n",
    "    # Produces the integers from 0 to limit-1 in a queue    \n",
    "    i = tf.train.range_input_producer(epoch_size, shuffle=False).dequeue()\n",
    "    \n",
    "    # slice [begin, end) stride specify the step \n",
    "    x=tf.strided_slice(data,[0,i*num_steps], [batch_size, (i+1)*num_steps])\n",
    "    x.set_shape([batch_size, num_steps])\n",
    "    \n",
    "    y= tf.strided_slice(data, [0,i*num_steps], [batch_size, (i + 1) * num_steps + 1])\n",
    "    y.set_shape([batch_size, num_steps])\n",
    "    \n",
    "    return x,y"
   ]
  },
  {
   "cell_type": "code",
   "execution_count": null,
   "metadata": {
    "collapsed": true
   },
   "outputs": [],
   "source": []
  }
 ],
 "metadata": {
  "kernelspec": {
   "display_name": "Python 3",
   "language": "python",
   "name": "python3"
  },
  "language_info": {
   "codemirror_mode": {
    "name": "ipython",
    "version": 3
   },
   "file_extension": ".py",
   "mimetype": "text/x-python",
   "name": "python",
   "nbconvert_exporter": "python",
   "pygments_lexer": "ipython3",
   "version": "3.5.2"
  }
 },
 "nbformat": 4,
 "nbformat_minor": 2
}
