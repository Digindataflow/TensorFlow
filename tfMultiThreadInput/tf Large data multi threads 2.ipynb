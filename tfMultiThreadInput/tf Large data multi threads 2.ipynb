{
 "cells": [
  {
   "cell_type": "code",
   "execution_count": null,
   "metadata": {
    "collapsed": true
   },
   "outputs": [],
   "source": [
    "# multi-threaded is not recommended now "
   ]
  },
  {
   "cell_type": "code",
   "execution_count": 1,
   "metadata": {
    "collapsed": true
   },
   "outputs": [],
   "source": [
    "import os\n",
    "import tensorflow as tf\n"
   ]
  },
  {
   "cell_type": "code",
   "execution_count": 2,
   "metadata": {
    "collapsed": true
   },
   "outputs": [],
   "source": [
    "data_file='SampleImage'\n"
   ]
  },
  {
   "cell_type": "code",
   "execution_count": null,
   "metadata": {
    "collapsed": false
   },
   "outputs": [
    {
     "name": "stdout",
     "output_type": "stream",
     "text": [
      "number of images: 210\n",
      "[b'SampleImage\\\\00000_00000.jpg' b'SampleImage\\\\00000_00001.jpg']\n",
      "[b'SampleImage\\\\00000_00002.jpg' b'SampleImage\\\\00000_00003.jpg']\n",
      "[b'SampleImage\\\\00000_00004.jpg' b'SampleImage\\\\00000_00005.jpg']\n",
      "[b'SampleImage\\\\00000_00006.jpg' b'SampleImage\\\\00000_00007.jpg']\n",
      "[b'SampleImage\\\\00000_00008.jpg' b'SampleImage\\\\00000_00009.jpg']\n",
      "[b'SampleImage\\\\00000_00010.jpg' b'SampleImage\\\\00000_00011.jpg']\n",
      "[b'SampleImage\\\\00000_00012.jpg' b'SampleImage\\\\00000_00013.jpg']\n",
      "[b'SampleImage\\\\00000_00014.jpg' b'SampleImage\\\\00000_00015.jpg']\n",
      "[b'SampleImage\\\\00000_00016.jpg' b'SampleImage\\\\00000_00017.jpg']\n",
      "[b'SampleImage\\\\00000_00018.jpg' b'SampleImage\\\\00000_00019.jpg']\n",
      "[b'SampleImage\\\\00000_00020.jpg' b'SampleImage\\\\00000_00021.jpg']\n",
      "[b'SampleImage\\\\00000_00022.jpg' b'SampleImage\\\\00000_00023.jpg']\n",
      "[b'SampleImage\\\\00000_00024.jpg' b'SampleImage\\\\00000_00025.jpg']\n",
      "[b'SampleImage\\\\00000_00026.jpg' b'SampleImage\\\\00000_00027.jpg']\n",
      "[b'SampleImage\\\\00000_00028.jpg' b'SampleImage\\\\00000_00029.jpg']\n",
      "[b'SampleImage\\\\00001_00000.jpg' b'SampleImage\\\\00001_00001.jpg']\n",
      "[b'SampleImage\\\\00001_00002.jpg' b'SampleImage\\\\00001_00003.jpg']\n",
      "[b'SampleImage\\\\00001_00004.jpg' b'SampleImage\\\\00001_00005.jpg']\n",
      "[b'SampleImage\\\\00001_00006.jpg' b'SampleImage\\\\00001_00007.jpg']\n",
      "[b'SampleImage\\\\00001_00008.jpg' b'SampleImage\\\\00001_00009.jpg']\n",
      "[b'SampleImage\\\\00001_00010.jpg' b'SampleImage\\\\00001_00011.jpg']\n",
      "[b'SampleImage\\\\00001_00012.jpg' b'SampleImage\\\\00001_00013.jpg']\n",
      "[b'SampleImage\\\\00001_00014.jpg' b'SampleImage\\\\00001_00015.jpg']\n",
      "[b'SampleImage\\\\00001_00016.jpg' b'SampleImage\\\\00001_00017.jpg']\n",
      "[b'SampleImage\\\\00001_00018.jpg' b'SampleImage\\\\00001_00019.jpg']\n",
      "[b'SampleImage\\\\00001_00020.jpg' b'SampleImage\\\\00001_00021.jpg']\n",
      "[b'SampleImage\\\\00001_00022.jpg' b'SampleImage\\\\00001_00023.jpg']\n",
      "[b'SampleImage\\\\00001_00024.jpg' b'SampleImage\\\\00001_00025.jpg']\n",
      "[b'SampleImage\\\\00001_00026.jpg' b'SampleImage\\\\00001_00027.jpg']\n",
      "[b'SampleImage\\\\00001_00028.jpg' b'SampleImage\\\\00001_00029.jpg']\n",
      "[b'SampleImage\\\\00002_00000.jpg' b'SampleImage\\\\00002_00001.jpg']\n",
      "[b'SampleImage\\\\00002_00002.jpg' b'SampleImage\\\\00002_00003.jpg']\n",
      "[b'SampleImage\\\\00002_00004.jpg' b'SampleImage\\\\00002_00005.jpg']\n",
      "[b'SampleImage\\\\00002_00006.jpg' b'SampleImage\\\\00002_00007.jpg']\n",
      "[b'SampleImage\\\\00002_00008.jpg' b'SampleImage\\\\00002_00009.jpg']\n",
      "[b'SampleImage\\\\00002_00010.jpg' b'SampleImage\\\\00002_00011.jpg']\n",
      "[b'SampleImage\\\\00002_00012.jpg' b'SampleImage\\\\00002_00013.jpg']\n",
      "[b'SampleImage\\\\00002_00014.jpg' b'SampleImage\\\\00002_00015.jpg']\n",
      "[b'SampleImage\\\\00002_00016.jpg' b'SampleImage\\\\00002_00017.jpg']\n",
      "[b'SampleImage\\\\00002_00018.jpg' b'SampleImage\\\\00002_00019.jpg']\n",
      "[b'SampleImage\\\\00002_00020.jpg' b'SampleImage\\\\00002_00021.jpg']\n",
      "[b'SampleImage\\\\00002_00022.jpg' b'SampleImage\\\\00002_00023.jpg']\n",
      "[b'SampleImage\\\\00002_00024.jpg' b'SampleImage\\\\00002_00025.jpg']\n",
      "[b'SampleImage\\\\00002_00026.jpg' b'SampleImage\\\\00002_00027.jpg']\n",
      "[b'SampleImage\\\\00002_00028.jpg' b'SampleImage\\\\00002_00029.jpg']\n",
      "[b'SampleImage\\\\00003_00000.jpg' b'SampleImage\\\\00003_00001.jpg']\n",
      "[b'SampleImage\\\\00003_00002.jpg' b'SampleImage\\\\00003_00003.jpg']\n",
      "[b'SampleImage\\\\00003_00004.jpg' b'SampleImage\\\\00003_00005.jpg']\n",
      "[b'SampleImage\\\\00003_00006.jpg' b'SampleImage\\\\00003_00007.jpg']\n",
      "[b'SampleImage\\\\00003_00008.jpg' b'SampleImage\\\\00003_00009.jpg']\n",
      "[b'SampleImage\\\\00003_00010.jpg' b'SampleImage\\\\00003_00011.jpg']\n",
      "[b'SampleImage\\\\00003_00012.jpg' b'SampleImage\\\\00003_00013.jpg']\n",
      "[b'SampleImage\\\\00003_00014.jpg' b'SampleImage\\\\00003_00015.jpg']\n",
      "[b'SampleImage\\\\00003_00016.jpg' b'SampleImage\\\\00003_00017.jpg']\n",
      "[b'SampleImage\\\\00003_00018.jpg' b'SampleImage\\\\00003_00019.jpg']\n",
      "[b'SampleImage\\\\00003_00020.jpg' b'SampleImage\\\\00003_00021.jpg']\n",
      "[b'SampleImage\\\\00003_00022.jpg' b'SampleImage\\\\00003_00023.jpg']\n",
      "[b'SampleImage\\\\00003_00024.jpg' b'SampleImage\\\\00003_00025.jpg']\n",
      "[b'SampleImage\\\\00003_00026.jpg' b'SampleImage\\\\00003_00027.jpg']\n",
      "[b'SampleImage\\\\00003_00028.jpg' b'SampleImage\\\\00003_00029.jpg']\n",
      "[b'SampleImage\\\\00004_00000.jpg' b'SampleImage\\\\00004_00001.jpg']\n",
      "[b'SampleImage\\\\00004_00002.jpg' b'SampleImage\\\\00004_00003.jpg']\n",
      "[b'SampleImage\\\\00004_00004.jpg' b'SampleImage\\\\00004_00005.jpg']\n",
      "[b'SampleImage\\\\00004_00006.jpg' b'SampleImage\\\\00004_00007.jpg']\n",
      "[b'SampleImage\\\\00004_00008.jpg' b'SampleImage\\\\00004_00009.jpg']\n",
      "[b'SampleImage\\\\00004_00010.jpg' b'SampleImage\\\\00004_00011.jpg']\n",
      "[b'SampleImage\\\\00004_00012.jpg' b'SampleImage\\\\00004_00013.jpg']\n",
      "[b'SampleImage\\\\00004_00014.jpg' b'SampleImage\\\\00004_00015.jpg']\n",
      "[b'SampleImage\\\\00004_00016.jpg' b'SampleImage\\\\00004_00017.jpg']\n",
      "[b'SampleImage\\\\00004_00018.jpg' b'SampleImage\\\\00004_00019.jpg']\n",
      "[b'SampleImage\\\\00004_00020.jpg' b'SampleImage\\\\00004_00021.jpg']\n",
      "[b'SampleImage\\\\00004_00022.jpg' b'SampleImage\\\\00004_00023.jpg']\n",
      "[b'SampleImage\\\\00004_00024.jpg' b'SampleImage\\\\00004_00025.jpg']\n",
      "[b'SampleImage\\\\00004_00026.jpg' b'SampleImage\\\\00004_00027.jpg']\n",
      "[b'SampleImage\\\\00004_00028.jpg' b'SampleImage\\\\00004_00029.jpg']\n",
      "[b'SampleImage\\\\00005_00000.jpg' b'SampleImage\\\\00005_00001.jpg']\n",
      "[b'SampleImage\\\\00005_00002.jpg' b'SampleImage\\\\00005_00003.jpg']\n",
      "[b'SampleImage\\\\00005_00004.jpg' b'SampleImage\\\\00005_00005.jpg']\n",
      "[b'SampleImage\\\\00005_00006.jpg' b'SampleImage\\\\00005_00007.jpg']\n",
      "[b'SampleImage\\\\00005_00008.jpg' b'SampleImage\\\\00005_00009.jpg']\n",
      "[b'SampleImage\\\\00005_00010.jpg' b'SampleImage\\\\00005_00011.jpg']\n",
      "[b'SampleImage\\\\00005_00012.jpg' b'SampleImage\\\\00005_00013.jpg']\n",
      "[b'SampleImage\\\\00005_00014.jpg' b'SampleImage\\\\00005_00015.jpg']\n",
      "[b'SampleImage\\\\00005_00016.jpg' b'SampleImage\\\\00005_00017.jpg']\n",
      "[b'SampleImage\\\\00005_00018.jpg' b'SampleImage\\\\00005_00019.jpg']\n",
      "[b'SampleImage\\\\00005_00020.jpg' b'SampleImage\\\\00005_00021.jpg']\n",
      "[b'SampleImage\\\\00005_00022.jpg' b'SampleImage\\\\00005_00023.jpg']\n",
      "[b'SampleImage\\\\00005_00024.jpg' b'SampleImage\\\\00005_00025.jpg']\n",
      "[b'SampleImage\\\\00005_00026.jpg' b'SampleImage\\\\00005_00027.jpg']\n",
      "[b'SampleImage\\\\00005_00028.jpg' b'SampleImage\\\\00005_00029.jpg']\n",
      "[b'SampleImage\\\\00006_00000.jpg' b'SampleImage\\\\00006_00001.jpg']\n",
      "[b'SampleImage\\\\00006_00002.jpg' b'SampleImage\\\\00006_00003.jpg']\n",
      "[b'SampleImage\\\\00006_00004.jpg' b'SampleImage\\\\00006_00005.jpg']\n",
      "[b'SampleImage\\\\00006_00006.jpg' b'SampleImage\\\\00006_00007.jpg']\n",
      "[b'SampleImage\\\\00006_00008.jpg' b'SampleImage\\\\00006_00009.jpg']\n",
      "[b'SampleImage\\\\00006_00010.jpg' b'SampleImage\\\\00006_00011.jpg']\n",
      "[b'SampleImage\\\\00006_00012.jpg' b'SampleImage\\\\00006_00013.jpg']\n",
      "[b'SampleImage\\\\00006_00014.jpg' b'SampleImage\\\\00006_00015.jpg']\n",
      "[b'SampleImage\\\\00006_00016.jpg' b'SampleImage\\\\00006_00017.jpg']\n",
      "[b'SampleImage\\\\00006_00018.jpg' b'SampleImage\\\\00006_00019.jpg']\n",
      "[b'SampleImage\\\\00006_00020.jpg' b'SampleImage\\\\00006_00021.jpg']\n",
      "[b'SampleImage\\\\00006_00022.jpg' b'SampleImage\\\\00006_00023.jpg']\n",
      "[b'SampleImage\\\\00006_00024.jpg' b'SampleImage\\\\00006_00025.jpg']\n",
      "[b'SampleImage\\\\00006_00026.jpg' b'SampleImage\\\\00006_00027.jpg']\n",
      "[b'SampleImage\\\\00006_00028.jpg' b'SampleImage\\\\00006_00029.jpg']\n",
      "done\n"
     ]
    }
   ],
   "source": [
    "with tf.Session() as sess:\n",
    "    filenames = [os.path.join(data_file,f) for f in os.listdir(data_file) if os.path.isfile(os.path.join(data_file,f))]\n",
    "    print('number of images: {}'.format(len(filenames)))\n",
    "    # Output strings (e.g. filenames) to a queue for an input pipeline.Create a QueueRunner\n",
    "    filename_queue = tf.train.string_input_producer(filenames,num_epochs=1,shuffle=False)\n",
    "    \n",
    "    reader = tf.WholeFileReader()\n",
    "    filename, img = reader.read(filename_queue)\n",
    "    img = tf.image.decode_jpeg(img,channels=3)\n",
    "    # Creates batches of tensors in tensors. Create a QueueRunner\n",
    "    dataname = tf.train.batch([filename],2,dynamic_pad=True)\n",
    "    \n",
    "    # epoch is local variable for string_input_producer\n",
    "    sess.run([tf.global_variables_initializer(),tf.local_variables_initializer()])\n",
    "    coord = tf.train.Coordinator()\n",
    "    # Starts all queue runners collected in the graph.\n",
    "    threads = tf.train.start_queue_runners(coord=coord)\n",
    "    \n",
    "    try:\n",
    "        while not coord.should_stop():\n",
    "            print(sess.run(dataname))\n",
    "    except tf.errors.OutOfRangeError:\n",
    "        print('done')\n",
    "        \n",
    "    finally:\n",
    "        coord.should_stop()\n",
    "    coord.join(threads)"
   ]
  },
  {
   "cell_type": "code",
   "execution_count": null,
   "metadata": {
    "collapsed": true
   },
   "outputs": [],
   "source": []
  }
 ],
 "metadata": {
  "kernelspec": {
   "display_name": "Python 3",
   "language": "python",
   "name": "python3"
  },
  "language_info": {
   "codemirror_mode": {
    "name": "ipython",
    "version": 3
   },
   "file_extension": ".py",
   "mimetype": "text/x-python",
   "name": "python",
   "nbconvert_exporter": "python",
   "pygments_lexer": "ipython3",
   "version": "3.5.2"
  }
 },
 "nbformat": 4,
 "nbformat_minor": 2
}
