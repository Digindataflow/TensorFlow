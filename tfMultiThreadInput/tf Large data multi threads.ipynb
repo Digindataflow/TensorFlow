{
 "cells": [
  {
   "cell_type": "code",
   "execution_count": 1,
   "metadata": {
    "collapsed": true
   },
   "outputs": [],
   "source": [
    "import tensorflow as tf"
   ]
  },
  {
   "cell_type": "code",
   "execution_count": 2,
   "metadata": {
    "collapsed": true
   },
   "outputs": [],
   "source": [
    "q=tf.FIFOQueue(capacity=3, dtypes=tf.float32)"
   ]
  },
  {
   "cell_type": "code",
   "execution_count": 3,
   "metadata": {
    "collapsed": true
   },
   "outputs": [],
   "source": [
    "init = q.enqueue_many(vals=[[0,0,0],])"
   ]
  },
  {
   "cell_type": "code",
   "execution_count": 4,
   "metadata": {
    "collapsed": true
   },
   "outputs": [],
   "source": [
    "x=q.dequeue()\n",
    "y=x+2\n",
    "q_inc=q.enqueue([y])\n"
   ]
  },
  {
   "cell_type": "code",
   "execution_count": 5,
   "metadata": {
    "collapsed": false
   },
   "outputs": [
    {
     "name": "stdout",
     "output_type": "stream",
     "text": [
      "2.0\n",
      "2.0\n",
      "4.0\n"
     ]
    }
   ],
   "source": [
    "with tf.Session() as sess:\n",
    "    init.run()\n",
    "    q_inc.run()\n",
    "    q_inc.run()\n",
    "    q_inc.run()\n",
    "    q_inc.run()\n",
    "    print(sess.run(x))\n",
    "    print(sess.run(x))\n",
    "    print(sess.run(x))"
   ]
  },
  {
   "cell_type": "code",
   "execution_count": 6,
   "metadata": {
    "collapsed": true
   },
   "outputs": [],
   "source": [
    "q=tf.RandomShuffleQueue(capacity=10, min_after_dequeue=0, dtypes='string')\n",
    "sess=tf.Session()\n",
    "for i in range(10):\n",
    "    sess.run(q.enqueue('File:'+str(i)))\n",
    "    "
   ]
  },
  {
   "cell_type": "code",
   "execution_count": 7,
   "metadata": {
    "collapsed": false
   },
   "outputs": [
    {
     "name": "stdout",
     "output_type": "stream",
     "text": [
      "b'File:6'\n",
      "b'File:5'\n",
      "b'File:7'\n",
      "b'File:2'\n",
      "b'File:0'\n",
      "b'File:8'\n",
      "b'File:9'\n",
      "b'File:1'\n",
      "b'File:4'\n",
      "b'File:3'\n"
     ]
    }
   ],
   "source": [
    "for i in range(10):\n",
    "    print(sess.run(q.dequeue()))"
   ]
  },
  {
   "cell_type": "code",
   "execution_count": 9,
   "metadata": {
    "collapsed": false
   },
   "outputs": [
    {
     "name": "stdout",
     "output_type": "stream",
     "text": [
      "b'File:'\n",
      "b'File:'\n",
      "b'File:'\n",
      "b'File:'\n",
      "b'File:'\n",
      "b'File:'\n",
      "b'File:'\n",
      "b'File:'\n",
      "b'File:'\n",
      "b'File:'\n",
      "b'File:'\n",
      "b'File:'\n",
      "b'File:'\n",
      "b'File:'\n",
      "b'File:'\n",
      "b'File:'\n",
      "b'File:'\n",
      "b'File:'\n",
      "b'File:'\n",
      "b'File:'\n",
      "b'File:'\n",
      "b'File:'\n",
      "b'File:'\n",
      "b'File:'\n",
      "b'File:'\n",
      "b'File:'\n",
      "b'File:'\n",
      "b'File:'\n",
      "b'File:'\n",
      "b'File:'\n",
      "b'File:'\n",
      "b'File:'\n",
      "b'File:'\n",
      "b'File:'\n",
      "b'File:'\n",
      "b'File:'\n",
      "Done training\n"
     ]
    }
   ],
   "source": [
    "q=tf.RandomShuffleQueue(capacity=10, min_after_dequeue=0, dtypes='string')\n",
    "enqueue_op = q.enqueue('File:')\n",
    "qr=tf.train.QueueRunner(q, enqueue_ops=[enqueue_op]*1)\n",
    "sess=tf.Session()\n",
    "# coordinate the termination of a set of threads.\n",
    "coord = tf.train.Coordinator()\n",
    "enqueue_threads = qr.create_threads(sess, start=True, coord=coord)\n",
    "\n",
    "try:\n",
    "    for i in range(50):\n",
    "        print(sess.run(q.dequeue()))\n",
    "        if i>=25:\n",
    "            coord.request_stop()\n",
    "            # Wait for all the threads to terminate.\n",
    "            coord.join(enqueue_threads, stop_grace_period_secs=10)\n",
    "            \n",
    "except RuntimeError:\n",
    "    print('one of the threads take more than 10 s to stop')\n",
    "except tf.errors.OutOfRangeError:\n",
    "    print('Done training')\n",
    "    \n",
    "finally:\n",
    "    coord.request_stop()\n",
    "    coord.join(enqueue_threads)\n"
   ]
  },
  {
   "cell_type": "code",
   "execution_count": null,
   "metadata": {
    "collapsed": true
   },
   "outputs": [],
   "source": []
  }
 ],
 "metadata": {
  "kernelspec": {
   "display_name": "Python 3",
   "language": "python",
   "name": "python3"
  },
  "language_info": {
   "codemirror_mode": {
    "name": "ipython",
    "version": 3
   },
   "file_extension": ".py",
   "mimetype": "text/x-python",
   "name": "python",
   "nbconvert_exporter": "python",
   "pygments_lexer": "ipython3",
   "version": "3.5.2"
  }
 },
 "nbformat": 4,
 "nbformat_minor": 2
}
