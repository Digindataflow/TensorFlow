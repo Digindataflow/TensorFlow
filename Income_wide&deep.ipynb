{
 "cells": [
  {
   "cell_type": "markdown",
   "metadata": {},
   "source": [
    "# wide learning"
   ]
  },
  {
   "cell_type": "code",
   "execution_count": 1,
   "metadata": {
    "collapsed": true,
    "deletable": true,
    "editable": true
   },
   "outputs": [],
   "source": [
    "import tensorflow as tf"
   ]
  },
  {
   "cell_type": "code",
   "execution_count": 2,
   "metadata": {
    "collapsed": true,
    "deletable": true,
    "editable": true
   },
   "outputs": [],
   "source": [
    "import urllib\n",
    "import tempfile"
   ]
  },
  {
   "cell_type": "code",
   "execution_count": 3,
   "metadata": {
    "collapsed": true,
    "deletable": true,
    "editable": true
   },
   "outputs": [],
   "source": [
    "# train_file = tempfile.NamedTemporaryFile()\n",
    "# test_file = tempfile.NamedTemporaryFile()\n"
   ]
  },
  {
   "cell_type": "code",
   "execution_count": 3,
   "metadata": {
    "collapsed": false,
    "deletable": true,
    "editable": true
   },
   "outputs": [],
   "source": [
    "import pandas as pd"
   ]
  },
  {
   "cell_type": "code",
   "execution_count": 7,
   "metadata": {
    "collapsed": false,
    "deletable": true,
    "editable": true
   },
   "outputs": [
    {
     "data": {
      "text/plain": [
       "('adult.data', <http.client.HTTPMessage at 0x169049c5128>)"
      ]
     },
     "execution_count": 7,
     "metadata": {},
     "output_type": "execute_result"
    }
   ],
   "source": [
    "urllib.request.urlretrieve(\"https://archive.ics.uci.edu/ml/machine-learning-databases/adult/adult.data\", filename='adult.data')"
   ]
  },
  {
   "cell_type": "code",
   "execution_count": 8,
   "metadata": {
    "collapsed": false,
    "deletable": true,
    "editable": true
   },
   "outputs": [
    {
     "data": {
      "text/plain": [
       "('adult_test.data', <http.client.HTTPMessage at 0x169049c5470>)"
      ]
     },
     "execution_count": 8,
     "metadata": {},
     "output_type": "execute_result"
    }
   ],
   "source": [
    "urllib.request.urlretrieve(\"https://archive.ics.uci.edu/ml/machine-learning-databases/adult/adult.test\", filename='adult_test.data')"
   ]
  },
  {
   "cell_type": "code",
   "execution_count": 4,
   "metadata": {
    "collapsed": true,
    "deletable": true,
    "editable": true
   },
   "outputs": [],
   "source": [
    "CSV_COLUMNS = [\n",
    "    \"age\", \"workclass\", \"fnlwgt\", \"education\", \"education_num\",\n",
    "    \"marital_status\", \"occupation\", \"relationship\", \"race\", \"gender\",\n",
    "    \"capital_gain\", \"capital_loss\", \"hours_per_week\", \"native_country\",\n",
    "    \"income_bracket\"]\n",
    "train_df = pd.read_csv('adult.data',names=CSV_COLUMNS, skipinitialspace=True)\n",
    "test_df = pd.read_csv('adult_test.data',names=CSV_COLUMNS, skipinitialspace=True, skiprows=1)\n"
   ]
  },
  {
   "cell_type": "code",
   "execution_count": 5,
   "metadata": {
    "collapsed": false,
    "deletable": true,
    "editable": true
   },
   "outputs": [],
   "source": [
    "train_labels = (train_df[\"income_bracket\"].apply(lambda x: '>50K' in x)).astype(int)\n",
    "test_labels = (test_df[\"income_bracket\"].apply(lambda x: '>50K' in x)).astype(int)"
   ]
  },
  {
   "cell_type": "code",
   "execution_count": 6,
   "metadata": {
    "collapsed": false,
    "deletable": true,
    "editable": true
   },
   "outputs": [],
   "source": [
    "train_df=train_df.dropna(how='any', axis=0)\n",
    "test_df=test_df.dropna(how='any', axis=0)\n",
    "train_input_fn=tf.estimator.inputs.pandas_input_fn(x=train_df,y=train_labels, num_epochs=None, shuffle=True, batch_size=100)\n",
    "test_input_fn = tf.estimator.inputs.pandas_input_fn(x=test_df, y=test_labels, num_epochs=1, shuffle=False,batch_size=100)"
   ]
  },
  {
   "cell_type": "code",
   "execution_count": 8,
   "metadata": {
    "collapsed": true,
    "deletable": true,
    "editable": true
   },
   "outputs": [],
   "source": [
    "gender = tf.feature_column.categorical_column_with_vocabulary_list(key='gender', vocabulary_list=['Female', 'Male'])"
   ]
  },
  {
   "cell_type": "code",
   "execution_count": 7,
   "metadata": {
    "collapsed": false,
    "deletable": true,
    "editable": true
   },
   "outputs": [],
   "source": [
    "marital_status = tf.feature_column.categorical_column_with_vocabulary_list(key='marital_status', vocabulary_list=train_df['marital_status'].unique())"
   ]
  },
  {
   "cell_type": "code",
   "execution_count": 9,
   "metadata": {
    "collapsed": true,
    "deletable": true,
    "editable": true
   },
   "outputs": [],
   "source": [
    "occupation=tf.feature_column.categorical_column_with_vocabulary_list(key='occupation', vocabulary_list=train_df['occupation'].unique())"
   ]
  },
  {
   "cell_type": "code",
   "execution_count": 10,
   "metadata": {
    "collapsed": true,
    "deletable": true,
    "editable": true
   },
   "outputs": [],
   "source": [
    "education = tf.feature_column.categorical_column_with_vocabulary_list(\n",
    "    \"education\", [\n",
    "        \"Bachelors\", \"HS-grad\", \"11th\", \"Masters\", \"9th\",\n",
    "        \"Some-college\", \"Assoc-acdm\", \"Assoc-voc\", \"7th-8th\",\n",
    "        \"Doctorate\", \"Prof-school\", \"5th-6th\", \"10th\", \"1st-4th\",\n",
    "        \"Preschool\", \"12th\"\n",
    "    ])\n",
    "relationship = tf.feature_column.categorical_column_with_vocabulary_list(\n",
    "    \"relationship\", [\n",
    "        \"Husband\", \"Not-in-family\", \"Wife\", \"Own-child\", \"Unmarried\",\n",
    "        \"Other-relative\"\n",
    "    ])\n",
    "workclass = tf.feature_column.categorical_column_with_vocabulary_list(\n",
    "    \"workclass\", [\n",
    "        \"Self-emp-not-inc\", \"Private\", \"State-gov\", \"Federal-gov\",\n",
    "        \"Local-gov\", \"?\", \"Self-emp-inc\", \"Without-pay\", \"Never-worked\"\n",
    "    ])\n",
    "native_country = tf.feature_column.categorical_column_with_hash_bucket(\n",
    "    \"native_country\", hash_bucket_size=1000)"
   ]
  },
  {
   "cell_type": "code",
   "execution_count": 11,
   "metadata": {
    "collapsed": true,
    "deletable": true,
    "editable": true
   },
   "outputs": [],
   "source": [
    "age = tf.feature_column.numeric_column(\"age\")\n",
    "education_num = tf.feature_column.numeric_column(\"education_num\")\n",
    "capital_gain = tf.feature_column.numeric_column(\"capital_gain\")\n",
    "capital_loss = tf.feature_column.numeric_column(\"capital_loss\")\n",
    "hours_per_week = tf.feature_column.numeric_column(\"hours_per_week\")"
   ]
  },
  {
   "cell_type": "code",
   "execution_count": 12,
   "metadata": {
    "collapsed": true,
    "deletable": true,
    "editable": true
   },
   "outputs": [],
   "source": [
    "age_buckets = tf.feature_column.bucketized_column(age, boundaries=[18, 25, 30, 35, 40, 45, 50, 55, 60, 65])"
   ]
  },
  {
   "cell_type": "code",
   "execution_count": 15,
   "metadata": {
    "collapsed": false,
    "deletable": true,
    "editable": true
   },
   "outputs": [],
   "source": [
    "education_x_occupation = tf.feature_column.crossed_column(\n",
    "    [\"education\", \"occupation\"], hash_bucket_size=1000)\n",
    "age_buckets_x_education_x_occupation = tf.feature_column.crossed_column(\n",
    "    [age_buckets, \"education\", \"occupation\"], hash_bucket_size=1000)\n",
    "country_x_occupation = tf.feature_column.crossed_column(['native_country', occupation], hash_bucket_size=1000)"
   ]
  },
  {
   "cell_type": "code",
   "execution_count": 16,
   "metadata": {
    "collapsed": true,
    "deletable": true,
    "editable": true
   },
   "outputs": [],
   "source": [
    "base_columns = [\n",
    "    gender, native_country, education, occupation, workclass, relationship,\n",
    "    age_buckets,\n",
    "]\n",
    "crossed_columns = [\n",
    "    tf.feature_column.crossed_column(\n",
    "        [\"education\", \"occupation\"], hash_bucket_size=1000),\n",
    "    tf.feature_column.crossed_column(\n",
    "        [age_buckets, \"education\", \"occupation\"], hash_bucket_size=1000),\n",
    "    tf.feature_column.crossed_column(\n",
    "        [\"native_country\", \"occupation\"], hash_bucket_size=1000)\n",
    "]"
   ]
  },
  {
   "cell_type": "code",
   "execution_count": 22,
   "metadata": {
    "collapsed": false,
    "deletable": true,
    "editable": true
   },
   "outputs": [
    {
     "name": "stdout",
     "output_type": "stream",
     "text": [
      "INFO:tensorflow:Using default config.\n",
      "WARNING:tensorflow:Using temporary folder as model directory: C:\\Users\\Lei\\AppData\\Local\\Temp\\tmph09j3u5f\n",
      "INFO:tensorflow:Using config: {'_model_dir': 'C:\\\\Users\\\\Lei\\\\AppData\\\\Local\\\\Temp\\\\tmph09j3u5f', '_log_step_count_steps': 100, '_keep_checkpoint_max': 5, '_keep_checkpoint_every_n_hours': 10000, '_save_summary_steps': 100, '_save_checkpoints_secs': 600, '_save_checkpoints_steps': None, '_session_config': None, '_tf_random_seed': 1}\n"
     ]
    }
   ],
   "source": [
    "model = tf.estimator.LinearClassifier(feature_columns=base_columns+crossed_columns)"
   ]
  },
  {
   "cell_type": "code",
   "execution_count": 23,
   "metadata": {
    "collapsed": false,
    "deletable": true,
    "editable": true
   },
   "outputs": [
    {
     "name": "stdout",
     "output_type": "stream",
     "text": [
      "INFO:tensorflow:Create CheckpointSaverHook.\n",
      "INFO:tensorflow:Saving checkpoints for 1 into C:\\Users\\Lei\\AppData\\Local\\Temp\\tmph09j3u5f\\model.ckpt.\n",
      "INFO:tensorflow:loss = 69.3147, step = 1\n",
      "INFO:tensorflow:global_step/sec: 171.674\n",
      "INFO:tensorflow:loss = 29.6601, step = 101 (0.591 sec)\n",
      "INFO:tensorflow:global_step/sec: 180.372\n",
      "INFO:tensorflow:loss = 31.1131, step = 201 (0.545 sec)\n",
      "INFO:tensorflow:global_step/sec: 208.928\n",
      "INFO:tensorflow:loss = 31.6184, step = 301 (0.479 sec)\n",
      "INFO:tensorflow:global_step/sec: 198.143\n",
      "INFO:tensorflow:loss = 29.4733, step = 401 (0.521 sec)\n",
      "INFO:tensorflow:global_step/sec: 192.749\n",
      "INFO:tensorflow:loss = 37.8348, step = 501 (0.503 sec)\n",
      "INFO:tensorflow:global_step/sec: 187.708\n",
      "INFO:tensorflow:loss = 31.6403, step = 601 (0.548 sec)\n",
      "INFO:tensorflow:global_step/sec: 182.648\n",
      "INFO:tensorflow:loss = 38.372, step = 701 (0.532 sec)\n",
      "INFO:tensorflow:global_step/sec: 185.761\n",
      "INFO:tensorflow:loss = 33.6536, step = 801 (0.538 sec)\n",
      "INFO:tensorflow:global_step/sec: 172.309\n",
      "INFO:tensorflow:loss = 43.4569, step = 901 (0.587 sec)\n",
      "INFO:tensorflow:Saving checkpoints for 1000 into C:\\Users\\Lei\\AppData\\Local\\Temp\\tmph09j3u5f\\model.ckpt.\n",
      "INFO:tensorflow:Loss for final step: 34.814.\n"
     ]
    },
    {
     "data": {
      "text/plain": [
       "<tensorflow.python.estimator.canned.linear.LinearClassifier at 0x169049cf2b0>"
      ]
     },
     "execution_count": 23,
     "metadata": {},
     "output_type": "execute_result"
    }
   ],
   "source": [
    "model.train(input_fn=train_input_fn, steps=1000)"
   ]
  },
  {
   "cell_type": "code",
   "execution_count": 24,
   "metadata": {
    "collapsed": false,
    "deletable": true,
    "editable": true
   },
   "outputs": [
    {
     "name": "stdout",
     "output_type": "stream",
     "text": [
      "WARNING:tensorflow:Casting <dtype: 'float32'> labels to bool.\n",
      "WARNING:tensorflow:Casting <dtype: 'float32'> labels to bool.\n",
      "INFO:tensorflow:Starting evaluation at 2017-10-23-19:39:33\n",
      "INFO:tensorflow:Restoring parameters from C:\\Users\\Lei\\AppData\\Local\\Temp\\tmph09j3u5f\\model.ckpt-1000\n",
      "INFO:tensorflow:Finished evaluation at 2017-10-23-19:39:36\n",
      "INFO:tensorflow:Saving dict for global step 1000: accuracy = 0.832566, accuracy_baseline = 0.763774, auc = 0.883092, auc_precision_recall = 0.695403, average_loss = 0.352525, global_step = 1000, label/mean = 0.236226, loss = 35.2114, prediction/mean = 0.245728\n"
     ]
    }
   ],
   "source": [
    "evaluation=model.evaluate(input_fn=test_input_fn)"
   ]
  },
  {
   "cell_type": "code",
   "execution_count": 25,
   "metadata": {
    "collapsed": false,
    "deletable": true,
    "editable": true
   },
   "outputs": [
    {
     "name": "stdout",
     "output_type": "stream",
     "text": [
      "INFO:tensorflow:Using default config.\n",
      "WARNING:tensorflow:Using temporary folder as model directory: C:\\Users\\Lei\\AppData\\Local\\Temp\\tmpngwmzt7x\n",
      "INFO:tensorflow:Using config: {'_model_dir': 'C:\\\\Users\\\\Lei\\\\AppData\\\\Local\\\\Temp\\\\tmpngwmzt7x', '_log_step_count_steps': 100, '_keep_checkpoint_max': 5, '_keep_checkpoint_every_n_hours': 10000, '_save_summary_steps': 100, '_save_checkpoints_secs': 600, '_save_checkpoints_steps': None, '_session_config': None, '_tf_random_seed': 1}\n"
     ]
    }
   ],
   "source": [
    "model_reg = tf.estimator.LinearClassifier(feature_columns=base_columns+crossed_columns, \n",
    "                                          optimizer=tf.train.FtrlOptimizer(l1_regularization_strength=1.0, learning_rate=0.1,l2_regularization_strength=1.0))"
   ]
  },
  {
   "cell_type": "code",
   "execution_count": 26,
   "metadata": {
    "collapsed": false,
    "deletable": true,
    "editable": true
   },
   "outputs": [
    {
     "name": "stdout",
     "output_type": "stream",
     "text": [
      "INFO:tensorflow:Create CheckpointSaverHook.\n",
      "INFO:tensorflow:Saving checkpoints for 1 into C:\\Users\\Lei\\AppData\\Local\\Temp\\tmpngwmzt7x\\model.ckpt.\n",
      "INFO:tensorflow:loss = 69.3147, step = 1\n",
      "INFO:tensorflow:global_step/sec: 143.704\n",
      "INFO:tensorflow:loss = 41.6227, step = 101 (0.710 sec)\n",
      "INFO:tensorflow:global_step/sec: 146.002\n",
      "INFO:tensorflow:loss = 36.6987, step = 201 (0.685 sec)\n",
      "INFO:tensorflow:global_step/sec: 174.256\n",
      "INFO:tensorflow:loss = 38.318, step = 301 (0.558 sec)\n",
      "INFO:tensorflow:global_step/sec: 185.245\n",
      "INFO:tensorflow:loss = 31.0162, step = 401 (0.540 sec)\n",
      "INFO:tensorflow:global_step/sec: 206.053\n",
      "INFO:tensorflow:loss = 34.1197, step = 501 (0.485 sec)\n",
      "INFO:tensorflow:global_step/sec: 148.027\n",
      "INFO:tensorflow:loss = 37.7318, step = 601 (0.680 sec)\n",
      "INFO:tensorflow:global_step/sec: 190.284\n",
      "INFO:tensorflow:loss = 41.2929, step = 701 (0.537 sec)\n",
      "INFO:tensorflow:global_step/sec: 162.594\n",
      "INFO:tensorflow:loss = 42.7422, step = 801 (0.599 sec)\n",
      "INFO:tensorflow:global_step/sec: 156.266\n",
      "INFO:tensorflow:loss = 36.6404, step = 901 (0.659 sec)\n",
      "INFO:tensorflow:Saving checkpoints for 1000 into C:\\Users\\Lei\\AppData\\Local\\Temp\\tmpngwmzt7x\\model.ckpt.\n",
      "INFO:tensorflow:Loss for final step: 31.9873.\n"
     ]
    },
    {
     "data": {
      "text/plain": [
       "<tensorflow.python.estimator.canned.linear.LinearClassifier at 0x169071067b8>"
      ]
     },
     "execution_count": 26,
     "metadata": {},
     "output_type": "execute_result"
    }
   ],
   "source": [
    "model_reg.train(input_fn=train_input_fn, steps=1000)"
   ]
  },
  {
   "cell_type": "code",
   "execution_count": 27,
   "metadata": {
    "collapsed": false,
    "deletable": true,
    "editable": true
   },
   "outputs": [
    {
     "name": "stdout",
     "output_type": "stream",
     "text": [
      "WARNING:tensorflow:Casting <dtype: 'float32'> labels to bool.\n",
      "WARNING:tensorflow:Casting <dtype: 'float32'> labels to bool.\n",
      "INFO:tensorflow:Starting evaluation at 2017-10-23-19:42:49\n",
      "INFO:tensorflow:Restoring parameters from C:\\Users\\Lei\\AppData\\Local\\Temp\\tmpngwmzt7x\\model.ckpt-1000\n",
      "INFO:tensorflow:Finished evaluation at 2017-10-23-19:42:52\n",
      "INFO:tensorflow:Saving dict for global step 1000: accuracy = 0.837541, accuracy_baseline = 0.763774, auc = 0.885906, auc_precision_recall = 0.700899, average_loss = 0.348481, global_step = 1000, label/mean = 0.236226, loss = 34.8075, prediction/mean = 0.24273\n"
     ]
    }
   ],
   "source": [
    "evaluation2=model_reg.evaluate(input_fn=test_input_fn)"
   ]
  },
  {
   "cell_type": "markdown",
   "metadata": {
    "collapsed": true,
    "deletable": true,
    "editable": true
   },
   "source": [
    "# wide & deep learning"
   ]
  },
  {
   "cell_type": "code",
   "execution_count": 17,
   "metadata": {
    "collapsed": true
   },
   "outputs": [],
   "source": [
    "deep_columns = [\n",
    "    # multi_hot representation, appropriate for categorical columns with only a few possible values \n",
    "    tf.feature_column.indicator_column(workclass),\n",
    "    tf.feature_column.indicator_column(education),\n",
    "    tf.feature_column.indicator_column(gender),\n",
    "    tf.feature_column.indicator_column(relationship),\n",
    "    \n",
    "    # The higher the dimension of the embedding is, \n",
    "    # the more degrees of freedom the model will have to learn the representations of the features.\n",
    "    # sparse, high-dimensional categorical features are first converted into a low-dimensional and dense real-valued vector, \n",
    "    tf.feature_column.embedding_column(native_country, dimension=8),\n",
    "    tf.feature_column.embedding_column(occupation,dimension=8),\n",
    "    #  concatenated with the continuous features\n",
    "    age, \n",
    "    education_num,\n",
    "    capital_gain,\n",
    "    capital_loss,\n",
    "    hours_per_week\n",
    "]"
   ]
  },
  {
   "cell_type": "code",
   "execution_count": 18,
   "metadata": {
    "collapsed": false
   },
   "outputs": [
    {
     "name": "stdout",
     "output_type": "stream",
     "text": [
      "INFO:tensorflow:Using default config.\n",
      "WARNING:tensorflow:Using temporary folder as model directory: C:\\Users\\Lei\\AppData\\Local\\Temp\\tmpuoe09nm2\n",
      "INFO:tensorflow:Using config: {'_save_summary_steps': 100, '_session_config': None, '_save_checkpoints_steps': None, '_save_checkpoints_secs': 600, '_log_step_count_steps': 100, '_keep_checkpoint_every_n_hours': 10000, '_model_dir': 'C:\\\\Users\\\\Lei\\\\AppData\\\\Local\\\\Temp\\\\tmpuoe09nm2', '_tf_random_seed': 1, '_keep_checkpoint_max': 5}\n"
     ]
    }
   ],
   "source": [
    "joint_model = tf.estimator.DNNLinearCombinedClassifier(dnn_hidden_units=[100,50], dnn_feature_columns=deep_columns,\n",
    "        linear_feature_columns=crossed_columns)"
   ]
  },
  {
   "cell_type": "code",
   "execution_count": 19,
   "metadata": {
    "collapsed": false
   },
   "outputs": [
    {
     "name": "stdout",
     "output_type": "stream",
     "text": [
      "INFO:tensorflow:Create CheckpointSaverHook.\n",
      "INFO:tensorflow:Saving checkpoints for 1 into C:\\Users\\Lei\\AppData\\Local\\Temp\\tmpuoe09nm2\\model.ckpt.\n",
      "INFO:tensorflow:step = 1, loss = 800.224\n",
      "INFO:tensorflow:global_step/sec: 129.886\n",
      "INFO:tensorflow:step = 101, loss = 91.1717 (0.833 sec)\n",
      "INFO:tensorflow:global_step/sec: 191.894\n",
      "INFO:tensorflow:step = 201, loss = 47.9213 (0.460 sec)\n",
      "INFO:tensorflow:global_step/sec: 223.785\n",
      "INFO:tensorflow:step = 301, loss = 42.1696 (0.456 sec)\n",
      "INFO:tensorflow:global_step/sec: 220.57\n",
      "INFO:tensorflow:step = 401, loss = 56.4651 (0.438 sec)\n",
      "INFO:tensorflow:global_step/sec: 231.468\n",
      "INFO:tensorflow:step = 501, loss = 47.4517 (0.432 sec)\n",
      "INFO:tensorflow:global_step/sec: 215.422\n",
      "INFO:tensorflow:step = 601, loss = 47.1432 (0.470 sec)\n",
      "INFO:tensorflow:global_step/sec: 223.558\n",
      "INFO:tensorflow:step = 701, loss = 42.1435 (0.448 sec)\n",
      "INFO:tensorflow:global_step/sec: 210.825\n",
      "INFO:tensorflow:step = 801, loss = 45.5199 (0.468 sec)\n",
      "INFO:tensorflow:global_step/sec: 231.469\n",
      "INFO:tensorflow:step = 901, loss = 39.2372 (0.448 sec)\n",
      "INFO:tensorflow:Saving checkpoints for 1000 into C:\\Users\\Lei\\AppData\\Local\\Temp\\tmpuoe09nm2\\model.ckpt.\n",
      "INFO:tensorflow:Loss for final step: 46.1628.\n"
     ]
    },
    {
     "data": {
      "text/plain": [
       "<tensorflow.python.estimator.canned.dnn_linear_combined.DNNLinearCombinedClassifier at 0x26ed8c90fd0>"
      ]
     },
     "execution_count": 19,
     "metadata": {},
     "output_type": "execute_result"
    }
   ],
   "source": [
    "joint_model.train(input_fn=train_input_fn, steps=1000)"
   ]
  },
  {
   "cell_type": "code",
   "execution_count": 20,
   "metadata": {
    "collapsed": false
   },
   "outputs": [
    {
     "name": "stdout",
     "output_type": "stream",
     "text": [
      "WARNING:tensorflow:Casting <dtype: 'float32'> labels to bool.\n",
      "WARNING:tensorflow:Casting <dtype: 'float32'> labels to bool.\n",
      "INFO:tensorflow:Starting evaluation at 2017-10-24-08:05:42\n",
      "INFO:tensorflow:Restoring parameters from C:\\Users\\Lei\\AppData\\Local\\Temp\\tmpuoe09nm2\\model.ckpt-1000\n",
      "INFO:tensorflow:Finished evaluation at 2017-10-24-08:05:44\n",
      "INFO:tensorflow:Saving dict for global step 1000: accuracy = 0.830109, accuracy_baseline = 0.763774, auc = 0.856434, auc_precision_recall = 0.695002, average_loss = 0.401289, global_step = 1000, label/mean = 0.236226, loss = 40.0821, prediction/mean = 0.273192\n"
     ]
    }
   ],
   "source": [
    "evaluation = joint_model.evaluate(test_input_fn)"
   ]
  },
  {
   "cell_type": "code",
   "execution_count": null,
   "metadata": {
    "collapsed": true
   },
   "outputs": [],
   "source": []
  }
 ],
 "metadata": {
  "kernelspec": {
   "display_name": "Python 3",
   "language": "python",
   "name": "python3"
  },
  "language_info": {
   "codemirror_mode": {
    "name": "ipython",
    "version": 3
   },
   "file_extension": ".py",
   "mimetype": "text/x-python",
   "name": "python",
   "nbconvert_exporter": "python",
   "pygments_lexer": "ipython3",
   "version": "3.5.2"
  }
 },
 "nbformat": 4,
 "nbformat_minor": 2
}
