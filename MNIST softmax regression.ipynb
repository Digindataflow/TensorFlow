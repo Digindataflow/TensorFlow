{
 "cells": [
  {
   "cell_type": "code",
   "execution_count": 1,
   "metadata": {
    "collapsed": true
   },
   "outputs": [],
   "source": [
    "import tensorflow as tf\n",
    "from tensorflow.examples.tutorials.mnist import input_data"
   ]
  },
  {
   "cell_type": "code",
   "execution_count": 3,
   "metadata": {
    "collapsed": false
   },
   "outputs": [
    {
     "name": "stdout",
     "output_type": "stream",
     "text": [
      "Extracting MNIST_data\\train-images-idx3-ubyte.gz\n",
      "Extracting MNIST_data\\train-labels-idx1-ubyte.gz\n",
      "Extracting MNIST_data\\t10k-images-idx3-ubyte.gz\n",
      "Extracting MNIST_data\\t10k-labels-idx1-ubyte.gz\n"
     ]
    }
   ],
   "source": [
    "mnist=input_data.read_data_sets('MNIST_data',one_hot=True)"
   ]
  },
  {
   "cell_type": "code",
   "execution_count": 4,
   "metadata": {
    "collapsed": true
   },
   "outputs": [],
   "source": [
    "x=tf.placeholder(dtype=tf.float32,shape=[None,784])\n",
    "y_=tf.placeholder(dtype=tf.float32,shape=[None,10])\n",
    "W=tf.Variable(initial_value=tf.zeros(shape=[784,10]))\n",
    "b=tf.Variable(initial_value=tf.zeros(shape=[10]))\n"
   ]
  },
  {
   "cell_type": "code",
   "execution_count": 5,
   "metadata": {
    "collapsed": true
   },
   "outputs": [],
   "source": [
    "y=tf.matmul(x,W)+b\n",
    "cross_entropy = tf.reduce_mean(tf.nn.softmax_cross_entropy_with_logits(labels=y_,logits=y))\n",
    "train_op = tf.train.GradientDescentOptimizer(learning_rate=0.01).minimize(cross_entropy)\n",
    "\n"
   ]
  },
  {
   "cell_type": "code",
   "execution_count": 11,
   "metadata": {
    "collapsed": false
   },
   "outputs": [
    {
     "name": "stdout",
     "output_type": "stream",
     "text": [
      "cross entropy: 2.28388\n",
      "cross entropy: 2.17881\n",
      "cross entropy: 2.10224\n",
      "cross entropy: 1.99969\n",
      "cross entropy: 1.92092\n",
      "cross entropy: 1.87344\n",
      "cross entropy: 1.77574\n",
      "cross entropy: 1.71419\n",
      "cross entropy: 1.67279\n",
      "cross entropy: 1.59868\n",
      "cross entropy: 1.56114\n",
      "cross entropy: 1.55473\n",
      "cross entropy: 1.386\n",
      "cross entropy: 1.41628\n",
      "cross entropy: 1.46403\n",
      "cross entropy: 1.27474\n",
      "cross entropy: 1.31809\n",
      "cross entropy: 1.25303\n",
      "cross entropy: 1.1854\n",
      "cross entropy: 1.17126\n",
      "cross entropy: 1.26773\n",
      "cross entropy: 1.3051\n",
      "cross entropy: 1.1467\n",
      "cross entropy: 1.17758\n",
      "cross entropy: 1.12084\n",
      "cross entropy: 0.992747\n",
      "cross entropy: 1.09378\n",
      "cross entropy: 1.02\n",
      "cross entropy: 1.04287\n",
      "cross entropy: 0.97421\n",
      "cross entropy: 0.940907\n",
      "cross entropy: 1.04057\n",
      "cross entropy: 1.03914\n",
      "cross entropy: 0.889925\n",
      "cross entropy: 1.00885\n",
      "cross entropy: 0.876991\n",
      "cross entropy: 0.921654\n",
      "cross entropy: 0.972686\n",
      "cross entropy: 0.899202\n",
      "cross entropy: 0.944071\n",
      "cross entropy: 0.989936\n",
      "cross entropy: 0.825515\n",
      "cross entropy: 0.90013\n",
      "cross entropy: 0.886316\n",
      "cross entropy: 0.882435\n",
      "cross entropy: 0.84007\n",
      "cross entropy: 0.785955\n",
      "cross entropy: 0.877372\n",
      "cross entropy: 0.730173\n",
      "cross entropy: 0.862746\n",
      "cross entropy: 0.854706\n",
      "cross entropy: 0.826911\n",
      "cross entropy: 0.785289\n",
      "cross entropy: 0.728622\n",
      "cross entropy: 0.686825\n",
      "cross entropy: 0.727307\n",
      "cross entropy: 0.756244\n",
      "cross entropy: 0.648771\n",
      "cross entropy: 0.631334\n",
      "cross entropy: 0.873557\n",
      "cross entropy: 0.718803\n",
      "cross entropy: 0.76788\n",
      "cross entropy: 0.681166\n",
      "cross entropy: 0.731594\n",
      "cross entropy: 0.757455\n",
      "cross entropy: 0.681263\n",
      "cross entropy: 0.792778\n",
      "cross entropy: 0.623913\n",
      "cross entropy: 0.695809\n",
      "cross entropy: 0.632196\n",
      "cross entropy: 0.770984\n",
      "cross entropy: 0.777513\n",
      "cross entropy: 0.772604\n",
      "cross entropy: 0.707072\n",
      "cross entropy: 0.669849\n",
      "cross entropy: 0.739153\n",
      "cross entropy: 0.734743\n",
      "cross entropy: 0.656266\n",
      "cross entropy: 0.695132\n",
      "cross entropy: 0.545849\n",
      "cross entropy: 0.684566\n",
      "cross entropy: 0.732773\n",
      "cross entropy: 0.634396\n",
      "cross entropy: 0.58926\n",
      "cross entropy: 0.706575\n",
      "cross entropy: 0.610515\n",
      "cross entropy: 0.592879\n",
      "cross entropy: 0.636225\n",
      "cross entropy: 0.528423\n",
      "cross entropy: 0.568846\n",
      "cross entropy: 0.64378\n",
      "cross entropy: 0.705764\n",
      "cross entropy: 0.635482\n",
      "cross entropy: 0.590046\n",
      "cross entropy: 0.652745\n",
      "cross entropy: 0.642206\n",
      "cross entropy: 0.590798\n",
      "cross entropy: 0.657358\n",
      "cross entropy: 0.734721\n",
      "cross entropy: 0.489498\n"
     ]
    },
    {
     "ename": "ValueError",
     "evalue": "Cannot evaluate tensor using `eval()`: No default session is registered. Use `with sess.as_default()` or pass an explicit session to `eval(session=sess)`",
     "output_type": "error",
     "traceback": [
      "\u001b[1;31m---------------------------------------------------------------------------\u001b[0m",
      "\u001b[1;31mValueError\u001b[0m                                Traceback (most recent call last)",
      "\u001b[1;32m<ipython-input-11-0aab17717059>\u001b[0m in \u001b[0;36m<module>\u001b[1;34m()\u001b[0m\n\u001b[0;32m      8\u001b[0m \u001b[0mcorrect_pred\u001b[0m\u001b[1;33m=\u001b[0m\u001b[0mtf\u001b[0m\u001b[1;33m.\u001b[0m\u001b[0mequal\u001b[0m\u001b[1;33m(\u001b[0m\u001b[0mtf\u001b[0m\u001b[1;33m.\u001b[0m\u001b[0margmax\u001b[0m\u001b[1;33m(\u001b[0m\u001b[0my\u001b[0m\u001b[1;33m,\u001b[0m\u001b[0maxis\u001b[0m\u001b[1;33m=\u001b[0m\u001b[1;36m1\u001b[0m\u001b[1;33m)\u001b[0m\u001b[1;33m,\u001b[0m\u001b[0mtf\u001b[0m\u001b[1;33m.\u001b[0m\u001b[0margmax\u001b[0m\u001b[1;33m(\u001b[0m\u001b[0my_\u001b[0m\u001b[1;33m,\u001b[0m\u001b[0maxis\u001b[0m\u001b[1;33m=\u001b[0m\u001b[1;36m1\u001b[0m\u001b[1;33m)\u001b[0m\u001b[1;33m)\u001b[0m\u001b[1;33m\u001b[0m\u001b[0m\n\u001b[0;32m      9\u001b[0m \u001b[0maccuracy\u001b[0m\u001b[1;33m=\u001b[0m\u001b[0mtf\u001b[0m\u001b[1;33m.\u001b[0m\u001b[0mreduce_mean\u001b[0m\u001b[1;33m(\u001b[0m\u001b[0mtf\u001b[0m\u001b[1;33m.\u001b[0m\u001b[0mcast\u001b[0m\u001b[1;33m(\u001b[0m\u001b[0mcorrect_pred\u001b[0m\u001b[1;33m,\u001b[0m\u001b[0mtf\u001b[0m\u001b[1;33m.\u001b[0m\u001b[0mfloat32\u001b[0m\u001b[1;33m)\u001b[0m\u001b[1;33m)\u001b[0m\u001b[1;33m\u001b[0m\u001b[0m\n\u001b[1;32m---> 10\u001b[1;33m \u001b[0mprint\u001b[0m\u001b[1;33m(\u001b[0m\u001b[0maccuracy\u001b[0m\u001b[1;33m.\u001b[0m\u001b[0meval\u001b[0m\u001b[1;33m(\u001b[0m\u001b[0mfeed_dict\u001b[0m\u001b[1;33m=\u001b[0m\u001b[1;33m{\u001b[0m\u001b[0mx\u001b[0m\u001b[1;33m:\u001b[0m\u001b[0mmnist\u001b[0m\u001b[1;33m.\u001b[0m\u001b[0mtest\u001b[0m\u001b[1;33m.\u001b[0m\u001b[0mimages\u001b[0m\u001b[1;33m,\u001b[0m \u001b[0my_\u001b[0m\u001b[1;33m:\u001b[0m\u001b[0mmnist\u001b[0m\u001b[1;33m.\u001b[0m\u001b[0mtest\u001b[0m\u001b[1;33m.\u001b[0m\u001b[0mlabels\u001b[0m\u001b[1;33m}\u001b[0m\u001b[1;33m)\u001b[0m\u001b[1;33m)\u001b[0m\u001b[1;33m\u001b[0m\u001b[0m\n\u001b[0m",
      "\u001b[1;32mC:\\Users\\Lei\\AppData\\Local\\Enthought\\Canopy\\edm\\envs\\User\\lib\\site-packages\\tensorflow\\python\\framework\\ops.py\u001b[0m in \u001b[0;36meval\u001b[1;34m(self, feed_dict, session)\u001b[0m\n\u001b[0;32m    539\u001b[0m \u001b[1;33m\u001b[0m\u001b[0m\n\u001b[0;32m    540\u001b[0m     \"\"\"\n\u001b[1;32m--> 541\u001b[1;33m     \u001b[1;32mreturn\u001b[0m \u001b[0m_eval_using_default_session\u001b[0m\u001b[1;33m(\u001b[0m\u001b[0mself\u001b[0m\u001b[1;33m,\u001b[0m \u001b[0mfeed_dict\u001b[0m\u001b[1;33m,\u001b[0m \u001b[0mself\u001b[0m\u001b[1;33m.\u001b[0m\u001b[0mgraph\u001b[0m\u001b[1;33m,\u001b[0m \u001b[0msession\u001b[0m\u001b[1;33m)\u001b[0m\u001b[1;33m\u001b[0m\u001b[0m\n\u001b[0m\u001b[0;32m    542\u001b[0m \u001b[1;33m\u001b[0m\u001b[0m\n\u001b[0;32m    543\u001b[0m \u001b[1;33m\u001b[0m\u001b[0m\n",
      "\u001b[1;32mC:\\Users\\Lei\\AppData\\Local\\Enthought\\Canopy\\edm\\envs\\User\\lib\\site-packages\\tensorflow\\python\\framework\\ops.py\u001b[0m in \u001b[0;36m_eval_using_default_session\u001b[1;34m(tensors, feed_dict, graph, session)\u001b[0m\n\u001b[0;32m   4069\u001b[0m     \u001b[0msession\u001b[0m \u001b[1;33m=\u001b[0m \u001b[0mget_default_session\u001b[0m\u001b[1;33m(\u001b[0m\u001b[1;33m)\u001b[0m\u001b[1;33m\u001b[0m\u001b[0m\n\u001b[0;32m   4070\u001b[0m     \u001b[1;32mif\u001b[0m \u001b[0msession\u001b[0m \u001b[1;32mis\u001b[0m \u001b[1;32mNone\u001b[0m\u001b[1;33m:\u001b[0m\u001b[1;33m\u001b[0m\u001b[0m\n\u001b[1;32m-> 4071\u001b[1;33m       raise ValueError(\"Cannot evaluate tensor using `eval()`: No default \"\n\u001b[0m\u001b[0;32m   4072\u001b[0m                        \u001b[1;34m\"session is registered. Use `with \"\u001b[0m\u001b[1;33m\u001b[0m\u001b[0m\n\u001b[0;32m   4073\u001b[0m                        \u001b[1;34m\"sess.as_default()` or pass an explicit session to \"\u001b[0m\u001b[1;33m\u001b[0m\u001b[0m\n",
      "\u001b[1;31mValueError\u001b[0m: Cannot evaluate tensor using `eval()`: No default session is registered. Use `with sess.as_default()` or pass an explicit session to `eval(session=sess)`"
     ]
    }
   ],
   "source": [
    "    sess=tf.Session()\n",
    "    sess.run(tf.global_variables_initializer())\n",
    "    for _ in range(1000):\n",
    "        batch=mnist.train.next_batch(batch_size=100)\n",
    "        sess.run(train_op, feed_dict={x:batch[0],y_:batch[1]})\n",
    "        if _%10==0:\n",
    "            print('cross entropy:', sess.run(cross_entropy, feed_dict={x:batch[0],y_:batch[1]}))\n",
    "    correct_pred=tf.equal(tf.argmax(y,axis=1),tf.argmax(y_,axis=1))\n",
    "    accuracy=tf.reduce_mean(tf.cast(correct_pred,tf.float32))\n",
    "    print(accuracy.eval(session=sess,feed_dict={x:mnist.test.images, y_:mnist.test.labels}))"
   ]
  },
  {
   "cell_type": "code",
   "execution_count": 12,
   "metadata": {
    "collapsed": false
   },
   "outputs": [
    {
     "name": "stdout",
     "output_type": "stream",
     "text": [
      "0.8718\n"
     ]
    }
   ],
   "source": [
    "\n"
   ]
  },
  {
   "cell_type": "code",
   "execution_count": null,
   "metadata": {
    "collapsed": true
   },
   "outputs": [],
   "source": []
  },
  {
   "cell_type": "code",
   "execution_count": null,
   "metadata": {
    "collapsed": true
   },
   "outputs": [],
   "source": []
  },
  {
   "cell_type": "code",
   "execution_count": null,
   "metadata": {
    "collapsed": true
   },
   "outputs": [],
   "source": []
  },
  {
   "cell_type": "code",
   "execution_count": null,
   "metadata": {
    "collapsed": true
   },
   "outputs": [],
   "source": []
  },
  {
   "cell_type": "code",
   "execution_count": null,
   "metadata": {
    "collapsed": true
   },
   "outputs": [],
   "source": []
  }
 ],
 "metadata": {
  "kernelspec": {
   "display_name": "Python 3",
   "language": "python",
   "name": "python3"
  },
  "language_info": {
   "codemirror_mode": {
    "name": "ipython",
    "version": 3
   },
   "file_extension": ".py",
   "mimetype": "text/x-python",
   "name": "python",
   "nbconvert_exporter": "python",
   "pygments_lexer": "ipython3",
   "version": "3.5.2"
  }
 },
 "nbformat": 4,
 "nbformat_minor": 2
}
