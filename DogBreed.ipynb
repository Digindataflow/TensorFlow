{
 "cells": [
  {
   "cell_type": "code",
   "execution_count": 1,
   "metadata": {
    "collapsed": true
   },
   "outputs": [],
   "source": [
    "import tensorflow as tf\n",
    "import glob\n"
   ]
  },
  {
   "cell_type": "code",
   "execution_count": 5,
   "metadata": {
    "collapsed": true
   },
   "outputs": [],
   "source": [
    "image_filenames = glob.glob('.\\\\Images\\\\n02*\\\\*.jpg')"
   ]
  },
  {
   "cell_type": "code",
   "execution_count": 8,
   "metadata": {
    "collapsed": false
   },
   "outputs": [
    {
     "data": {
      "text/plain": [
       "['.', 'Images', 'n02085620-Chihuahua', 'n02085620_10074.jpg']"
      ]
     },
     "execution_count": 8,
     "metadata": {},
     "output_type": "execute_result"
    }
   ],
   "source": [
    "image_filenames[0].split('\\\\')"
   ]
  },
  {
   "cell_type": "code",
   "execution_count": 9,
   "metadata": {
    "collapsed": true
   },
   "outputs": [],
   "source": [
    "from collections import defaultdict\n",
    "from itertools import groupby"
   ]
  },
  {
   "cell_type": "code",
   "execution_count": 10,
   "metadata": {
    "collapsed": true
   },
   "outputs": [],
   "source": [
    "train_data = defaultdict(list)\n",
    "test_data = defaultdict(list)"
   ]
  },
  {
   "cell_type": "code",
   "execution_count": 11,
   "metadata": {
    "collapsed": true
   },
   "outputs": [],
   "source": [
    "image_filename_with_breed = map(lambda filename: (filename.split('\\\\')[2], filename), image_filenames)"
   ]
  },
  {
   "cell_type": "code",
   "execution_count": 13,
   "metadata": {
    "collapsed": false
   },
   "outputs": [],
   "source": [
    "for dog_breed, breed_images in groupby(image_filename_with_breed, lambda x:x[0]):\n",
    "    for i, breed_image in enumerate(breed_images):\n",
    "        if i%5==0:\n",
    "            test_data[dog_breed].append(breed_image[1])\n",
    "        else:\n",
    "            train_data[dog_breed].append(breed_image[1])\n",
    "    \n",
    "    # train_count = len(train_data[dog_breed])\n",
    "    # test_count = len(test_data[dog_breed])\n",
    "    \n",
    "    # assert round(test_count/(test_count+train_count),2) > 0.18\n",
    "    "
   ]
  },
  {
   "cell_type": "code",
   "execution_count": 22,
   "metadata": {
    "collapsed": false
   },
   "outputs": [
    {
     "name": "stdout",
     "output_type": "stream",
     "text": [
      "ERROR! Session/line number was not unique in database. History logging moved to new session 234\n"
     ]
    }
   ],
   "source": [
    "sess = tf.Session()"
   ]
  },
  {
   "cell_type": "code",
   "execution_count": 23,
   "metadata": {
    "collapsed": false
   },
   "outputs": [],
   "source": [
    "def write_records_file(dataset, record_location):\n",
    "    writer = None\n",
    "    \n",
    "    current_index=0\n",
    "    for breed, breed_images in dataset.items():\n",
    "        for breed_image in breed_images:\n",
    "            if current_index%100 == 0:\n",
    "                if writer:\n",
    "                    writer.close()\n",
    "                \n",
    "                record_filename = '{record_location}-{current_index}.tfrecords'.format(record_location=record_location, current_index=current_index)\n",
    "                writer = tf.python_io.TFRecordWriter(path=record_filename)\n",
    "            \n",
    "            current_index +=1\n",
    "            image_file = tf.read_file(breed_image)\n",
    "            try:\n",
    "                image = tf.image.decode_jpeg(image_file)\n",
    "            except: \n",
    "                print(breed_image)\n",
    "                continue\n",
    "                \n",
    "            grayscale_image = tf.image.rgb_to_grayscale(image)\n",
    "            resized_image = tf.image.resize_images(grayscale_image, 250, 151)\n",
    "            \n",
    "            image_bytes = sess.run(tf.cast(resized_image),tf.uint8).tobytes()\n",
    "            \n",
    "            image_label = breed.encode('utf-8')\n",
    "            \n",
    "            example = tf.train.Example(features = tf.train.Features(feature = {\n",
    "                'label': tf.train.Feature(bytes_list=tf.train.BytesList(value=[image_label])) ,\n",
    "                'image': tf.train.Feature(bytes_list = tf.train.BytesList(value=[image_bytes]))\n",
    "            }))\n",
    "            \n",
    "            writer.write(example.SerializeToString())\n",
    "        \n",
    "    writer.close()\n",
    "                "
   ]
  },
  {
   "cell_type": "code",
   "execution_count": null,
   "metadata": {
    "collapsed": true
   },
   "outputs": [],
   "source": [
    "write_records_file(train_data, '\\\\train_image')"
   ]
  },
  {
   "cell_type": "code",
   "execution_count": null,
   "metadata": {
    "collapsed": true
   },
   "outputs": [],
   "source": [
    "write_records_file(test_data, '\\\\test_image')"
   ]
  },
  {
   "cell_type": "code",
   "execution_count": null,
   "metadata": {
    "collapsed": true
   },
   "outputs": [],
   "source": [
    "filename_queue = tf.train.string_input_producer(\n",
    "tf.train.match_filenames_once(\"./output/training-images/*.tfrecords\"))\n",
    "reader = tf.TFRecordReader()\n",
    "_, serialized = reader.read(filename_queue)\n",
    "features = tf.parse_single_example(\n",
    "serialized,\n",
    "features={\n",
    "'label': tf.FixedLenFeature([], tf.string),\n",
    "'image': tf.FixedLenFeature([], tf.string),\n",
    "})\n",
    "record_image = tf.decode_raw(features['image'], tf.uint8)\n",
    "# Changing the image into this shape helps train and visualize the output by converting it to\n",
    "# be organized like an image.\n",
    "image = tf.reshape(record_image, [250, 151, 1])\n",
    "label = tf.cast(features['label'], tf.string)\n",
    "min_after_dequeue = 10\n",
    "batch_size = 3\n",
    "capacity = min_after_dequeue + 3 * batch_size\n",
    "image_batch, label_batch = tf.train.shuffle_batch(\n",
    "[image, label], batch_size=batch_size, capacity=capacity, min_after_dequeue=min_after_dequeue)"
   ]
  },
  {
   "cell_type": "code",
   "execution_count": null,
   "metadata": {
    "collapsed": true
   },
   "outputs": [],
   "source": []
  },
  {
   "cell_type": "code",
   "execution_count": null,
   "metadata": {
    "collapsed": true
   },
   "outputs": [],
   "source": []
  }
 ],
 "metadata": {
  "kernelspec": {
   "display_name": "Python 3",
   "language": "python",
   "name": "python3"
  },
  "language_info": {
   "codemirror_mode": {
    "name": "ipython",
    "version": 3
   },
   "file_extension": ".py",
   "mimetype": "text/x-python",
   "name": "python",
   "nbconvert_exporter": "python",
   "pygments_lexer": "ipython3",
   "version": "3.5.2"
  }
 },
 "nbformat": 4,
 "nbformat_minor": 2
}
