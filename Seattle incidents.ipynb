{
 "cells": [
  {
   "cell_type": "markdown",
   "metadata": {},
   "source": [
    "# Seattle incidents"
   ]
  },
  {
   "cell_type": "code",
   "execution_count": 1,
   "metadata": {
    "collapsed": true
   },
   "outputs": [],
   "source": [
    "import pandas as pd\n",
    "import matplotlib.pyplot as plt\n",
    "import numpy as np\n",
    "%matplotlib inline"
   ]
  },
  {
   "cell_type": "code",
   "execution_count": 49,
   "metadata": {
    "collapsed": true
   },
   "outputs": [],
   "source": [
    "import datetime"
   ]
  },
  {
   "cell_type": "code",
   "execution_count": 2,
   "metadata": {
    "collapsed": false
   },
   "outputs": [
    {
     "name": "stderr",
     "output_type": "stream",
     "text": [
      "D:\\Applications\\Anaconda2\\lib\\site-packages\\IPython\\core\\interactiveshell.py:2723: DtypeWarning: Columns (9) have mixed types. Specify dtype option on import or set low_memory=False.\n",
      "  interactivity=interactivity, compiler=compiler, result=result)\n"
     ]
    },
    {
     "data": {
      "text/html": [
       "<div>\n",
       "<table border=\"1\" class=\"dataframe\">\n",
       "  <thead>\n",
       "    <tr style=\"text-align: right;\">\n",
       "      <th></th>\n",
       "      <th>RMS CDW ID</th>\n",
       "      <th>General Offense Number</th>\n",
       "      <th>Offense Code</th>\n",
       "      <th>Offense Code Extension</th>\n",
       "      <th>Offense Type</th>\n",
       "      <th>Summary Offense Code</th>\n",
       "      <th>Summarized Offense Description</th>\n",
       "      <th>Date Reported</th>\n",
       "      <th>Occurred Date or Date Range Start</th>\n",
       "      <th>Occurred Date Range End</th>\n",
       "      <th>Hundred Block Location</th>\n",
       "      <th>District/Sector</th>\n",
       "      <th>Zone/Beat</th>\n",
       "      <th>Census Tract 2000</th>\n",
       "      <th>Longitude</th>\n",
       "      <th>Latitude</th>\n",
       "      <th>Location</th>\n",
       "      <th>Month</th>\n",
       "      <th>Year</th>\n",
       "    </tr>\n",
       "  </thead>\n",
       "  <tbody>\n",
       "    <tr>\n",
       "      <th>0</th>\n",
       "      <td>483839</td>\n",
       "      <td>2015218538</td>\n",
       "      <td>2202</td>\n",
       "      <td>0</td>\n",
       "      <td>BURGLARY-FORCE-RES</td>\n",
       "      <td>2200</td>\n",
       "      <td>BURGLARY</td>\n",
       "      <td>06/28/2015 10:31:00 AM</td>\n",
       "      <td>06/28/2014 10:31:00 AM</td>\n",
       "      <td>06/28/2015 10:31:00 AM</td>\n",
       "      <td>6XX BLOCK OF NW 74 ST</td>\n",
       "      <td>J</td>\n",
       "      <td>J2</td>\n",
       "      <td>2900.3013</td>\n",
       "      <td>-122.364672</td>\n",
       "      <td>47.682524</td>\n",
       "      <td>(47.68252427, -122.364671996)</td>\n",
       "      <td>6</td>\n",
       "      <td>2014</td>\n",
       "    </tr>\n",
       "    <tr>\n",
       "      <th>1</th>\n",
       "      <td>481252</td>\n",
       "      <td>2015213067</td>\n",
       "      <td>2610</td>\n",
       "      <td>0</td>\n",
       "      <td>FRAUD-IDENTITY THEFT</td>\n",
       "      <td>2600</td>\n",
       "      <td>FRAUD</td>\n",
       "      <td>06/24/2015 11:09:00 AM</td>\n",
       "      <td>06/01/2014 12:00:00 AM</td>\n",
       "      <td>06/24/2015 11:09:00 AM</td>\n",
       "      <td>23XX BLOCK OF 43 AV E</td>\n",
       "      <td>C</td>\n",
       "      <td>C2</td>\n",
       "      <td>6300.1004</td>\n",
       "      <td>-122.277080</td>\n",
       "      <td>47.639901</td>\n",
       "      <td>(47.639900761, -122.277080248)</td>\n",
       "      <td>6</td>\n",
       "      <td>2014</td>\n",
       "    </tr>\n",
       "    <tr>\n",
       "      <th>2</th>\n",
       "      <td>481375</td>\n",
       "      <td>2015210301</td>\n",
       "      <td>2316</td>\n",
       "      <td>0</td>\n",
       "      <td>THEFT-MAIL</td>\n",
       "      <td>2300</td>\n",
       "      <td>MAIL THEFT</td>\n",
       "      <td>06/22/2015 09:22:00 AM</td>\n",
       "      <td>08/31/2014 09:00:00 AM</td>\n",
       "      <td>NaN</td>\n",
       "      <td>81XX BLOCK OF 11 AV SW</td>\n",
       "      <td>F</td>\n",
       "      <td>F3</td>\n",
       "      <td>11300.5013</td>\n",
       "      <td>-122.349312</td>\n",
       "      <td>47.529232</td>\n",
       "      <td>(47.529232299, -122.349312181)</td>\n",
       "      <td>8</td>\n",
       "      <td>2014</td>\n",
       "    </tr>\n",
       "    <tr>\n",
       "      <th>3</th>\n",
       "      <td>481690</td>\n",
       "      <td>2015209327</td>\n",
       "      <td>2599</td>\n",
       "      <td>0</td>\n",
       "      <td>COUNTERFEIT</td>\n",
       "      <td>2500</td>\n",
       "      <td>COUNTERFEIT</td>\n",
       "      <td>06/21/2015 03:52:00 PM</td>\n",
       "      <td>06/20/2014 01:38:00 PM</td>\n",
       "      <td>NaN</td>\n",
       "      <td>6XX BLOCK OF PINE ST</td>\n",
       "      <td>M</td>\n",
       "      <td>M2</td>\n",
       "      <td>8200.1002</td>\n",
       "      <td>-122.334818</td>\n",
       "      <td>47.612368</td>\n",
       "      <td>(47.612368448, -122.334817763)</td>\n",
       "      <td>6</td>\n",
       "      <td>2014</td>\n",
       "    </tr>\n",
       "    <tr>\n",
       "      <th>4</th>\n",
       "      <td>478198</td>\n",
       "      <td>2015207880</td>\n",
       "      <td>2399</td>\n",
       "      <td>3</td>\n",
       "      <td>THEFT-OTH</td>\n",
       "      <td>2300</td>\n",
       "      <td>OTHER PROPERTY</td>\n",
       "      <td>06/20/2015 11:59:00 AM</td>\n",
       "      <td>06/01/2014 11:59:00 AM</td>\n",
       "      <td>11/01/2014 12:00:00 PM</td>\n",
       "      <td>77XX BLOCK OF SUNNYSIDE AV N</td>\n",
       "      <td>J</td>\n",
       "      <td>J3</td>\n",
       "      <td>2700.2015</td>\n",
       "      <td>-122.329379</td>\n",
       "      <td>47.685960</td>\n",
       "      <td>(47.685959879, -122.329378505)</td>\n",
       "      <td>6</td>\n",
       "      <td>2014</td>\n",
       "    </tr>\n",
       "  </tbody>\n",
       "</table>\n",
       "</div>"
      ],
      "text/plain": [
       "   RMS CDW ID  General Offense Number Offense Code  Offense Code Extension  \\\n",
       "0      483839              2015218538         2202                       0   \n",
       "1      481252              2015213067         2610                       0   \n",
       "2      481375              2015210301         2316                       0   \n",
       "3      481690              2015209327         2599                       0   \n",
       "4      478198              2015207880         2399                       3   \n",
       "\n",
       "           Offense Type Summary Offense Code Summarized Offense Description  \\\n",
       "0    BURGLARY-FORCE-RES                 2200                       BURGLARY   \n",
       "1  FRAUD-IDENTITY THEFT                 2600                          FRAUD   \n",
       "2            THEFT-MAIL                 2300                     MAIL THEFT   \n",
       "3           COUNTERFEIT                 2500                    COUNTERFEIT   \n",
       "4             THEFT-OTH                 2300                 OTHER PROPERTY   \n",
       "\n",
       "            Date Reported Occurred Date or Date Range Start  \\\n",
       "0  06/28/2015 10:31:00 AM            06/28/2014 10:31:00 AM   \n",
       "1  06/24/2015 11:09:00 AM            06/01/2014 12:00:00 AM   \n",
       "2  06/22/2015 09:22:00 AM            08/31/2014 09:00:00 AM   \n",
       "3  06/21/2015 03:52:00 PM            06/20/2014 01:38:00 PM   \n",
       "4  06/20/2015 11:59:00 AM            06/01/2014 11:59:00 AM   \n",
       "\n",
       "  Occurred Date Range End        Hundred Block Location District/Sector  \\\n",
       "0  06/28/2015 10:31:00 AM         6XX BLOCK OF NW 74 ST               J   \n",
       "1  06/24/2015 11:09:00 AM         23XX BLOCK OF 43 AV E               C   \n",
       "2                     NaN        81XX BLOCK OF 11 AV SW               F   \n",
       "3                     NaN          6XX BLOCK OF PINE ST               M   \n",
       "4  11/01/2014 12:00:00 PM  77XX BLOCK OF SUNNYSIDE AV N               J   \n",
       "\n",
       "  Zone/Beat  Census Tract 2000   Longitude   Latitude  \\\n",
       "0        J2          2900.3013 -122.364672  47.682524   \n",
       "1        C2          6300.1004 -122.277080  47.639901   \n",
       "2        F3         11300.5013 -122.349312  47.529232   \n",
       "3        M2          8200.1002 -122.334818  47.612368   \n",
       "4        J3          2700.2015 -122.329379  47.685960   \n",
       "\n",
       "                         Location  Month  Year  \n",
       "0   (47.68252427, -122.364671996)      6  2014  \n",
       "1  (47.639900761, -122.277080248)      6  2014  \n",
       "2  (47.529232299, -122.349312181)      8  2014  \n",
       "3  (47.612368448, -122.334817763)      6  2014  \n",
       "4  (47.685959879, -122.329378505)      6  2014  "
      ]
     },
     "execution_count": 2,
     "metadata": {},
     "output_type": "execute_result"
    }
   ],
   "source": [
    "crime = pd.read_csv('seattle_incidents_summer_2014.csv')\n"
   ]
  },
  {
   "cell_type": "code",
   "execution_count": 3,
   "metadata": {
    "collapsed": true
   },
   "outputs": [],
   "source": [
    "crime['Occurred Date or Date Range Start'] = pd.to_datetime(crime['Occurred Date or Date Range Start'])"
   ]
  },
  {
   "cell_type": "code",
   "execution_count": 5,
   "metadata": {
    "collapsed": true
   },
   "outputs": [],
   "source": [
    "crime['Occurred Date Range End'] = pd.to_datetime(crime['Occurred Date Range End'])"
   ]
  },
  {
   "cell_type": "code",
   "execution_count": 6,
   "metadata": {
    "collapsed": false
   },
   "outputs": [
    {
     "data": {
      "text/html": [
       "<div>\n",
       "<table border=\"1\" class=\"dataframe\">\n",
       "  <thead>\n",
       "    <tr style=\"text-align: right;\">\n",
       "      <th></th>\n",
       "      <th>RMS CDW ID</th>\n",
       "      <th>General Offense Number</th>\n",
       "      <th>Offense Code</th>\n",
       "      <th>Offense Code Extension</th>\n",
       "      <th>Offense Type</th>\n",
       "      <th>Summary Offense Code</th>\n",
       "      <th>Summarized Offense Description</th>\n",
       "      <th>Date Reported</th>\n",
       "      <th>Occurred Date or Date Range Start</th>\n",
       "      <th>Occurred Date Range End</th>\n",
       "      <th>Hundred Block Location</th>\n",
       "      <th>District/Sector</th>\n",
       "      <th>Zone/Beat</th>\n",
       "      <th>Census Tract 2000</th>\n",
       "      <th>Longitude</th>\n",
       "      <th>Latitude</th>\n",
       "      <th>Location</th>\n",
       "      <th>Month</th>\n",
       "      <th>Year</th>\n",
       "    </tr>\n",
       "    <tr>\n",
       "      <th>Month</th>\n",
       "      <th></th>\n",
       "      <th></th>\n",
       "      <th></th>\n",
       "      <th></th>\n",
       "      <th></th>\n",
       "      <th></th>\n",
       "      <th></th>\n",
       "      <th></th>\n",
       "      <th></th>\n",
       "      <th></th>\n",
       "      <th></th>\n",
       "      <th></th>\n",
       "      <th></th>\n",
       "      <th></th>\n",
       "      <th></th>\n",
       "      <th></th>\n",
       "      <th></th>\n",
       "      <th></th>\n",
       "      <th></th>\n",
       "    </tr>\n",
       "  </thead>\n",
       "  <tbody>\n",
       "    <tr>\n",
       "      <th>6</th>\n",
       "      <td>11125</td>\n",
       "      <td>11125</td>\n",
       "      <td>11125</td>\n",
       "      <td>11125</td>\n",
       "      <td>11125</td>\n",
       "      <td>11125</td>\n",
       "      <td>11125</td>\n",
       "      <td>11125</td>\n",
       "      <td>11125</td>\n",
       "      <td>5721</td>\n",
       "      <td>11125</td>\n",
       "      <td>11109</td>\n",
       "      <td>11110</td>\n",
       "      <td>11079</td>\n",
       "      <td>11125</td>\n",
       "      <td>11125</td>\n",
       "      <td>11125</td>\n",
       "      <td>11125</td>\n",
       "      <td>11125</td>\n",
       "    </tr>\n",
       "    <tr>\n",
       "      <th>7</th>\n",
       "      <td>11154</td>\n",
       "      <td>11154</td>\n",
       "      <td>11154</td>\n",
       "      <td>11154</td>\n",
       "      <td>11154</td>\n",
       "      <td>11154</td>\n",
       "      <td>11154</td>\n",
       "      <td>11154</td>\n",
       "      <td>11154</td>\n",
       "      <td>5581</td>\n",
       "      <td>11154</td>\n",
       "      <td>11132</td>\n",
       "      <td>11132</td>\n",
       "      <td>11105</td>\n",
       "      <td>11154</td>\n",
       "      <td>11154</td>\n",
       "      <td>11154</td>\n",
       "      <td>11154</td>\n",
       "      <td>11154</td>\n",
       "    </tr>\n",
       "    <tr>\n",
       "      <th>8</th>\n",
       "      <td>10500</td>\n",
       "      <td>10500</td>\n",
       "      <td>10500</td>\n",
       "      <td>10500</td>\n",
       "      <td>10500</td>\n",
       "      <td>10500</td>\n",
       "      <td>10500</td>\n",
       "      <td>10500</td>\n",
       "      <td>10500</td>\n",
       "      <td>5197</td>\n",
       "      <td>10500</td>\n",
       "      <td>10481</td>\n",
       "      <td>10481</td>\n",
       "      <td>10461</td>\n",
       "      <td>10500</td>\n",
       "      <td>10500</td>\n",
       "      <td>10500</td>\n",
       "      <td>10500</td>\n",
       "      <td>10500</td>\n",
       "    </tr>\n",
       "  </tbody>\n",
       "</table>\n",
       "</div>"
      ],
      "text/plain": [
       "       RMS CDW ID  General Offense Number  Offense Code  \\\n",
       "Month                                                     \n",
       "6           11125                   11125         11125   \n",
       "7           11154                   11154         11154   \n",
       "8           10500                   10500         10500   \n",
       "\n",
       "       Offense Code Extension  Offense Type  Summary Offense Code  \\\n",
       "Month                                                               \n",
       "6                       11125         11125                 11125   \n",
       "7                       11154         11154                 11154   \n",
       "8                       10500         10500                 10500   \n",
       "\n",
       "       Summarized Offense Description  Date Reported  \\\n",
       "Month                                                  \n",
       "6                               11125          11125   \n",
       "7                               11154          11154   \n",
       "8                               10500          10500   \n",
       "\n",
       "       Occurred Date or Date Range Start  Occurred Date Range End  \\\n",
       "Month                                                               \n",
       "6                                  11125                     5721   \n",
       "7                                  11154                     5581   \n",
       "8                                  10500                     5197   \n",
       "\n",
       "       Hundred Block Location  District/Sector  Zone/Beat  Census Tract 2000  \\\n",
       "Month                                                                          \n",
       "6                       11125            11109      11110              11079   \n",
       "7                       11154            11132      11132              11105   \n",
       "8                       10500            10481      10481              10461   \n",
       "\n",
       "       Longitude  Latitude  Location  Month   Year  \n",
       "Month                                               \n",
       "6          11125     11125     11125  11125  11125  \n",
       "7          11154     11154     11154  11154  11154  \n",
       "8          10500     10500     10500  10500  10500  "
      ]
     },
     "execution_count": 6,
     "metadata": {},
     "output_type": "execute_result"
    }
   ],
   "source": [
    "month_group=crime.groupby(crime['Month']).count()\n",
    "month_group.head()"
   ]
  },
  {
   "cell_type": "markdown",
   "metadata": {},
   "source": [
    "# Number of incidents in different months are similar"
   ]
  },
  {
   "cell_type": "code",
   "execution_count": 34,
   "metadata": {
    "collapsed": false
   },
   "outputs": [
    {
     "data": {
      "text/plain": [
       "<matplotlib.text.Text at 0xb7a56d8>"
      ]
     },
     "execution_count": 34,
     "metadata": {},
     "output_type": "execute_result"
    },
    {
     "data": {
      "image/png": "[encoded data removed]",
      "text/plain": [
       "<matplotlib.figure.Figure at 0xdb785f8>"
      ]
     },
     "metadata": {},
     "output_type": "display_data"
    }
   ],
   "source": [
    "month_group['Month'].plot(kind='bar',title='Total incidents in seattle in different months from Jun. to Aug.',grid=True, colormap=plt.cm.Paired)\n",
    "plt.ylabel('Number of incidents')"
   ]
  },
  {
   "cell_type": "raw",
   "metadata": {},
   "source": [
    "It can be seen from the figure that the total number of incidents in June and in July are very similar, while the incidents in August are much less compared with the other two months, but overall the difference is not prodominant. "
   ]
  },
  {
   "cell_type": "code",
   "execution_count": 18,
   "metadata": {
    "collapsed": false
   },
   "outputs": [
    {
     "data": {
      "text/plain": [
       "array(['J', 'C', 'F', 'M', 'R', 'Q', 'B', 'D', 'E', 'L', 'N', 'S', 'U',\n",
       "       'W', 'G', 'K', '99', 'O', nan], dtype=object)"
      ]
     },
     "execution_count": 18,
     "metadata": {},
     "output_type": "execute_result"
    }
   ],
   "source": [
    "crime['District/Sector'].unique()"
   ]
  },
  {
   "cell_type": "code",
   "execution_count": 31,
   "metadata": {
    "collapsed": false
   },
   "outputs": [
    {
     "data": {
      "text/plain": [
       "District/Sector\n",
       "B    2338\n",
       "C    1680\n",
       "D    2063\n",
       "E    2255\n",
       "F    1594\n",
       "Name: District/Sector, dtype: int64"
      ]
     },
     "execution_count": 31,
     "metadata": {},
     "output_type": "execute_result"
    }
   ],
   "source": [
    "district_group=crime.groupby(crime['District/Sector'])['District/Sector'].count()\n",
    "district_group=district_group.drop(['99'])\n",
    "district_group.head()"
   ]
  },
  {
   "cell_type": "code",
   "execution_count": 32,
   "metadata": {
    "collapsed": false
   },
   "outputs": [],
   "source": [
    "district_group=district_group.sort_values()"
   ]
  },
  {
   "cell_type": "markdown",
   "metadata": {},
   "source": [
    "# Number of incidents in district M is the most, while the district O is the safest. "
   ]
  },
  {
   "cell_type": "code",
   "execution_count": 35,
   "metadata": {
    "collapsed": false
   },
   "outputs": [
    {
     "data": {
      "text/plain": [
       "<matplotlib.text.Text at 0xba889b0>"
      ]
     },
     "execution_count": 35,
     "metadata": {},
     "output_type": "execute_result"
    },
    {
     "data": {
      "image/png": "[encoded data removed]",
      "text/plain": [
       "<matplotlib.figure.Figure at 0xb8a41d0>"
      ]
     },
     "metadata": {},
     "output_type": "display_data"
    }
   ],
   "source": [
    "district_group.plot(kind='bar',title='Total incidents in seattle in different districts from Jun. to Aug.',grid=True, colormap=plt.cm.Paired)\n",
    "plt.ylabel('Number of incidents')"
   ]
  },
  {
   "cell_type": "raw",
   "metadata": {},
   "source": [
    "From the figure, the number of incidents is ordered ascendingly. In the district M took place the most incidents, while in district O the incidents are much less."
   ]
  },
  {
   "cell_type": "code",
   "execution_count": 40,
   "metadata": {
    "collapsed": false
   },
   "outputs": [],
   "source": [
    "crime['Day']=crime['Occurred Date or Date Range Start'].dt.date"
   ]
  },
  {
   "cell_type": "code",
   "execution_count": 42,
   "metadata": {
    "collapsed": false
   },
   "outputs": [],
   "source": [
    "crime['Time']=crime['Occurred Date or Date Range Start'].dt.time"
   ]
  },
  {
   "cell_type": "code",
   "execution_count": 45,
   "metadata": {
    "collapsed": true
   },
   "outputs": [],
   "source": [
    "day_crime=crime[crime['Month']==6].groupby(crime['Day'])['Day'].count()"
   ]
  },
  {
   "cell_type": "markdown",
   "metadata": {},
   "source": [
    "# The incidents pattern during June in different days is not obvious."
   ]
  },
  {
   "cell_type": "code",
   "execution_count": 47,
   "metadata": {
    "collapsed": false
   },
   "outputs": [
    {
     "data": {
      "text/plain": [
       "<matplotlib.text.Text at 0xed16518>"
      ]
     },
     "execution_count": 47,
     "metadata": {},
     "output_type": "execute_result"
    },
    {
     "data": {
      "image/png": "[encoded data removed]",
      "text/plain": [
       "<matplotlib.figure.Figure at 0xdfc75f8>"
      ]
     },
     "metadata": {},
     "output_type": "display_data"
    }
   ],
   "source": [
    "day_crime.plot(kind='bar',title='Total incidents in seattle in different days in Jun.',grid=True, colormap=plt.cm.Paired)\n",
    "plt.ylabel('Number of incidents')"
   ]
  },
  {
   "cell_type": "code",
   "execution_count": 58,
   "metadata": {
    "collapsed": true
   },
   "outputs": [],
   "source": [
    "def time_bins(s):\n",
    "    if s<datetime.time(hour=6):\n",
    "        return 0\n",
    "    elif s<datetime.time(hour=12):\n",
    "        return 1\n",
    "    elif s<datetime.time(hour=18):\n",
    "        return 2\n",
    "    else:\n",
    "        return 3\n",
    "    "
   ]
  },
  {
   "cell_type": "code",
   "execution_count": 60,
   "metadata": {
    "collapsed": false
   },
   "outputs": [],
   "source": [
    "crime['Time_bins']=crime['Time'].apply(time_bins)"
   ]
  },
  {
   "cell_type": "code",
   "execution_count": 61,
   "metadata": {
    "collapsed": false
   },
   "outputs": [],
   "source": [
    "Timebin_crime=crime['Time_bins'].groupby(crime['Time_bins']).count()"
   ]
  },
  {
   "cell_type": "markdown",
   "metadata": {},
   "source": [
    "# Most incidents in Seattle took place in the night "
   ]
  },
  {
   "cell_type": "code",
   "execution_count": 68,
   "metadata": {
    "collapsed": false
   },
   "outputs": [
    {
     "data": {
      "text/plain": [
       "([<matplotlib.axis.XTick at 0xf7d8278>,\n",
       "  <matplotlib.axis.XTick at 0x10684160>,\n",
       "  <matplotlib.axis.XTick at 0x1085b6d8>,\n",
       "  <matplotlib.axis.XTick at 0x108764a8>],\n",
       " <a list of 4 Text xticklabel objects>)"
      ]
     },
     "execution_count": 68,
     "metadata": {},
     "output_type": "execute_result"
    },
    {
     "data": {
      "image/png": "[encoded data removed]",
      "text/plain": [
       "<matplotlib.figure.Figure at 0x105b0b00>"
      ]
     },
     "metadata": {},
     "output_type": "display_data"
    }
   ],
   "source": [
    "Timebin_crime.plot(kind='bar',title='Total incidents in seattle in different time From Jun. to Aug.',grid=True, colormap=plt.cm.Paired)\n",
    "plt.ylabel('Number of incidents')\n",
    "plt.xlabel('Time bins')\n",
    "plt.xticks(np.arange(4),('0-6','6-12','12-18','18-24'))"
   ]
  },
  {
   "cell_type": "raw",
   "metadata": {},
   "source": [
    "Most incidents happened in the night when the time is after 18 o'clock, while before dawn it is mcuh safer. "
   ]
  },
  {
   "cell_type": "code",
   "execution_count": null,
   "metadata": {
    "collapsed": true
   },
   "outputs": [],
   "source": []
  }
 ],
 "metadata": {
  "kernelspec": {
   "display_name": "Python 2",
   "language": "python",
   "name": "python2"
  },
  "language_info": {
   "codemirror_mode": {
    "name": "ipython",
    "version": 2
   },
   "file_extension": ".py",
   "mimetype": "text/x-python",
   "name": "python",
   "nbconvert_exporter": "python",
   "pygments_lexer": "ipython2",
   "version": "2.7.13"
  }
 },
 "nbformat": 4,
 "nbformat_minor": 0
}
